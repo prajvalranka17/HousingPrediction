{
 "cells": [
  {
   "cell_type": "markdown",
   "metadata": {},
   "source": [
    "# Real Estate Pricing Predictions\n"
   ]
  },
  {
   "cell_type": "markdown",
   "metadata": {},
   "source": [
    "## Aim\n",
    "Housing prices for Taipei City for a certain time interval was taken into account. The factors\n",
    "affecting the prices of houses in that part of the city were carefully noted. These were\n",
    "1. Transaction_date\n",
    "2. House_age\n",
    "3. Nearest_MRT_station\n",
    "4. Convenient_stores\n",
    "5. Latitude\n",
    "6. Longitude\n",
    "\n",
    "These factors were responsible for certain housing_price in the city.\n",
    "The city wants to analyze the growth of the city in terms of future housing prices. The task here is  to help the city officials understand the dataset better and develop a machine learning model to predict housing prices in future."
   ]
  },
  {
   "cell_type": "markdown",
   "metadata": {},
   "source": [
    "### Importing libraries"
   ]
  },
  {
   "cell_type": "code",
   "execution_count": 1,
   "metadata": {},
   "outputs": [],
   "source": [
    "import pandas as pd\n",
    "import seaborn as sns\n",
    "import numpy as np\n",
    "import matplotlib.pyplot as plt\n",
    "%matplotlib inline"
   ]
  },
  {
   "cell_type": "markdown",
   "metadata": {},
   "source": [
    "### Importing Datasets"
   ]
  },
  {
   "cell_type": "code",
   "execution_count": 2,
   "metadata": {},
   "outputs": [
    {
     "data": {
      "text/html": [
       "<div>\n",
       "<style scoped>\n",
       "    .dataframe tbody tr th:only-of-type {\n",
       "        vertical-align: middle;\n",
       "    }\n",
       "\n",
       "    .dataframe tbody tr th {\n",
       "        vertical-align: top;\n",
       "    }\n",
       "\n",
       "    .dataframe thead th {\n",
       "        text-align: right;\n",
       "    }\n",
       "</style>\n",
       "<table border=\"1\" class=\"dataframe\">\n",
       "  <thead>\n",
       "    <tr style=\"text-align: right;\">\n",
       "      <th></th>\n",
       "      <th>No</th>\n",
       "      <th>Transaction_date</th>\n",
       "      <th>House_age</th>\n",
       "      <th>Nearest_MRT_station</th>\n",
       "      <th>Convenient_stores</th>\n",
       "      <th>latitude</th>\n",
       "      <th>longitude</th>\n",
       "      <th>Housing_price</th>\n",
       "    </tr>\n",
       "  </thead>\n",
       "  <tbody>\n",
       "    <tr>\n",
       "      <th>0</th>\n",
       "      <td>1</td>\n",
       "      <td>2012.917</td>\n",
       "      <td>32.0</td>\n",
       "      <td>84.87882</td>\n",
       "      <td>10</td>\n",
       "      <td>24.98298</td>\n",
       "      <td>121.54024</td>\n",
       "      <td>37.9</td>\n",
       "    </tr>\n",
       "    <tr>\n",
       "      <th>1</th>\n",
       "      <td>2</td>\n",
       "      <td>2012.917</td>\n",
       "      <td>19.5</td>\n",
       "      <td>306.59470</td>\n",
       "      <td>9</td>\n",
       "      <td>24.98034</td>\n",
       "      <td>121.53951</td>\n",
       "      <td>42.2</td>\n",
       "    </tr>\n",
       "    <tr>\n",
       "      <th>2</th>\n",
       "      <td>3</td>\n",
       "      <td>2013.583</td>\n",
       "      <td>13.3</td>\n",
       "      <td>561.98450</td>\n",
       "      <td>5</td>\n",
       "      <td>24.98746</td>\n",
       "      <td>121.54391</td>\n",
       "      <td>47.3</td>\n",
       "    </tr>\n",
       "    <tr>\n",
       "      <th>3</th>\n",
       "      <td>4</td>\n",
       "      <td>2013.500</td>\n",
       "      <td>13.3</td>\n",
       "      <td>561.98450</td>\n",
       "      <td>5</td>\n",
       "      <td>24.98746</td>\n",
       "      <td>121.54391</td>\n",
       "      <td>54.8</td>\n",
       "    </tr>\n",
       "    <tr>\n",
       "      <th>4</th>\n",
       "      <td>5</td>\n",
       "      <td>2012.833</td>\n",
       "      <td>5.0</td>\n",
       "      <td>390.56840</td>\n",
       "      <td>5</td>\n",
       "      <td>24.97937</td>\n",
       "      <td>121.54245</td>\n",
       "      <td>43.1</td>\n",
       "    </tr>\n",
       "  </tbody>\n",
       "</table>\n",
       "</div>"
      ],
      "text/plain": [
       "   No  Transaction_date  House_age  Nearest_MRT_station  Convenient_stores  \\\n",
       "0   1          2012.917       32.0             84.87882                 10   \n",
       "1   2          2012.917       19.5            306.59470                  9   \n",
       "2   3          2013.583       13.3            561.98450                  5   \n",
       "3   4          2013.500       13.3            561.98450                  5   \n",
       "4   5          2012.833        5.0            390.56840                  5   \n",
       "\n",
       "   latitude  longitude  Housing_price  \n",
       "0  24.98298  121.54024           37.9  \n",
       "1  24.98034  121.53951           42.2  \n",
       "2  24.98746  121.54391           47.3  \n",
       "3  24.98746  121.54391           54.8  \n",
       "4  24.97937  121.54245           43.1  "
      ]
     },
     "execution_count": 2,
     "metadata": {},
     "output_type": "execute_result"
    }
   ],
   "source": [
    "#importing datasets\n",
    "house_data = pd.read_csv(\"Real estate valuation (1).csv\")\n",
    "house_data.head()"
   ]
  },
  {
   "cell_type": "markdown",
   "metadata": {},
   "source": [
    "### Finding the missing values"
   ]
  },
  {
   "cell_type": "code",
   "execution_count": 3,
   "metadata": {},
   "outputs": [
    {
     "data": {
      "text/plain": [
       "No                     0\n",
       "Transaction_date       0\n",
       "House_age              0\n",
       "Nearest_MRT_station    0\n",
       "Convenient_stores      0\n",
       "latitude               0\n",
       "longitude              0\n",
       "Housing_price          0\n",
       "dtype: int64"
      ]
     },
     "execution_count": 3,
     "metadata": {},
     "output_type": "execute_result"
    }
   ],
   "source": [
    "#finding the missing values\n",
    "house_data.isna().sum()"
   ]
  },
  {
   "cell_type": "code",
   "execution_count": 4,
   "metadata": {},
   "outputs": [],
   "source": [
    "#There are no missing values"
   ]
  },
  {
   "cell_type": "markdown",
   "metadata": {},
   "source": [
    "### Describing House Data"
   ]
  },
  {
   "cell_type": "code",
   "execution_count": 5,
   "metadata": {
    "scrolled": true
   },
   "outputs": [
    {
     "data": {
      "text/html": [
       "<div>\n",
       "<style scoped>\n",
       "    .dataframe tbody tr th:only-of-type {\n",
       "        vertical-align: middle;\n",
       "    }\n",
       "\n",
       "    .dataframe tbody tr th {\n",
       "        vertical-align: top;\n",
       "    }\n",
       "\n",
       "    .dataframe thead th {\n",
       "        text-align: right;\n",
       "    }\n",
       "</style>\n",
       "<table border=\"1\" class=\"dataframe\">\n",
       "  <thead>\n",
       "    <tr style=\"text-align: right;\">\n",
       "      <th></th>\n",
       "      <th>No</th>\n",
       "      <th>Transaction_date</th>\n",
       "      <th>House_age</th>\n",
       "      <th>Nearest_MRT_station</th>\n",
       "      <th>Convenient_stores</th>\n",
       "      <th>latitude</th>\n",
       "      <th>longitude</th>\n",
       "      <th>Housing_price</th>\n",
       "    </tr>\n",
       "  </thead>\n",
       "  <tbody>\n",
       "    <tr>\n",
       "      <th>count</th>\n",
       "      <td>414.000000</td>\n",
       "      <td>414.000000</td>\n",
       "      <td>414.000000</td>\n",
       "      <td>414.000000</td>\n",
       "      <td>414.000000</td>\n",
       "      <td>414.000000</td>\n",
       "      <td>414.000000</td>\n",
       "      <td>414.000000</td>\n",
       "    </tr>\n",
       "    <tr>\n",
       "      <th>mean</th>\n",
       "      <td>207.500000</td>\n",
       "      <td>2013.148971</td>\n",
       "      <td>17.712560</td>\n",
       "      <td>1083.885689</td>\n",
       "      <td>4.094203</td>\n",
       "      <td>24.969030</td>\n",
       "      <td>121.533361</td>\n",
       "      <td>37.980193</td>\n",
       "    </tr>\n",
       "    <tr>\n",
       "      <th>std</th>\n",
       "      <td>119.655756</td>\n",
       "      <td>0.281967</td>\n",
       "      <td>11.392485</td>\n",
       "      <td>1262.109595</td>\n",
       "      <td>2.945562</td>\n",
       "      <td>0.012410</td>\n",
       "      <td>0.015347</td>\n",
       "      <td>13.606488</td>\n",
       "    </tr>\n",
       "    <tr>\n",
       "      <th>min</th>\n",
       "      <td>1.000000</td>\n",
       "      <td>2012.667000</td>\n",
       "      <td>0.000000</td>\n",
       "      <td>23.382840</td>\n",
       "      <td>0.000000</td>\n",
       "      <td>24.932070</td>\n",
       "      <td>121.473530</td>\n",
       "      <td>7.600000</td>\n",
       "    </tr>\n",
       "    <tr>\n",
       "      <th>25%</th>\n",
       "      <td>104.250000</td>\n",
       "      <td>2012.917000</td>\n",
       "      <td>9.025000</td>\n",
       "      <td>289.324800</td>\n",
       "      <td>1.000000</td>\n",
       "      <td>24.963000</td>\n",
       "      <td>121.528085</td>\n",
       "      <td>27.700000</td>\n",
       "    </tr>\n",
       "    <tr>\n",
       "      <th>50%</th>\n",
       "      <td>207.500000</td>\n",
       "      <td>2013.167000</td>\n",
       "      <td>16.100000</td>\n",
       "      <td>492.231300</td>\n",
       "      <td>4.000000</td>\n",
       "      <td>24.971100</td>\n",
       "      <td>121.538630</td>\n",
       "      <td>38.450000</td>\n",
       "    </tr>\n",
       "    <tr>\n",
       "      <th>75%</th>\n",
       "      <td>310.750000</td>\n",
       "      <td>2013.417000</td>\n",
       "      <td>28.150000</td>\n",
       "      <td>1454.279000</td>\n",
       "      <td>6.000000</td>\n",
       "      <td>24.977455</td>\n",
       "      <td>121.543305</td>\n",
       "      <td>46.600000</td>\n",
       "    </tr>\n",
       "    <tr>\n",
       "      <th>max</th>\n",
       "      <td>414.000000</td>\n",
       "      <td>2013.583000</td>\n",
       "      <td>43.800000</td>\n",
       "      <td>6488.021000</td>\n",
       "      <td>10.000000</td>\n",
       "      <td>25.014590</td>\n",
       "      <td>121.566270</td>\n",
       "      <td>117.500000</td>\n",
       "    </tr>\n",
       "  </tbody>\n",
       "</table>\n",
       "</div>"
      ],
      "text/plain": [
       "               No  Transaction_date   House_age  Nearest_MRT_station  \\\n",
       "count  414.000000        414.000000  414.000000           414.000000   \n",
       "mean   207.500000       2013.148971   17.712560          1083.885689   \n",
       "std    119.655756          0.281967   11.392485          1262.109595   \n",
       "min      1.000000       2012.667000    0.000000            23.382840   \n",
       "25%    104.250000       2012.917000    9.025000           289.324800   \n",
       "50%    207.500000       2013.167000   16.100000           492.231300   \n",
       "75%    310.750000       2013.417000   28.150000          1454.279000   \n",
       "max    414.000000       2013.583000   43.800000          6488.021000   \n",
       "\n",
       "       Convenient_stores    latitude   longitude  Housing_price  \n",
       "count         414.000000  414.000000  414.000000     414.000000  \n",
       "mean            4.094203   24.969030  121.533361      37.980193  \n",
       "std             2.945562    0.012410    0.015347      13.606488  \n",
       "min             0.000000   24.932070  121.473530       7.600000  \n",
       "25%             1.000000   24.963000  121.528085      27.700000  \n",
       "50%             4.000000   24.971100  121.538630      38.450000  \n",
       "75%             6.000000   24.977455  121.543305      46.600000  \n",
       "max            10.000000   25.014590  121.566270     117.500000  "
      ]
     },
     "execution_count": 5,
     "metadata": {},
     "output_type": "execute_result"
    }
   ],
   "source": [
    "house_data.describe()"
   ]
  },
  {
   "cell_type": "code",
   "execution_count": 6,
   "metadata": {},
   "outputs": [
    {
     "data": {
      "text/plain": [
       "No                       int64\n",
       "Transaction_date       float64\n",
       "House_age              float64\n",
       "Nearest_MRT_station    float64\n",
       "Convenient_stores        int64\n",
       "latitude               float64\n",
       "longitude              float64\n",
       "Housing_price          float64\n",
       "dtype: object"
      ]
     },
     "execution_count": 6,
     "metadata": {},
     "output_type": "execute_result"
    }
   ],
   "source": [
    "house_data.dtypes"
   ]
  },
  {
   "cell_type": "code",
   "execution_count": 7,
   "metadata": {},
   "outputs": [
    {
     "data": {
      "text/plain": [
       "414"
      ]
     },
     "execution_count": 7,
     "metadata": {},
     "output_type": "execute_result"
    }
   ],
   "source": [
    "len(house_data)"
   ]
  },
  {
   "cell_type": "code",
   "execution_count": 8,
   "metadata": {},
   "outputs": [
    {
     "data": {
      "text/plain": [
       "(414, 8)"
      ]
     },
     "execution_count": 8,
     "metadata": {},
     "output_type": "execute_result"
    }
   ],
   "source": [
    "house_data.shape"
   ]
  },
  {
   "cell_type": "markdown",
   "metadata": {},
   "source": [
    "### Finding Outliers in all Independent feature variables through scatterplot"
   ]
  },
  {
   "cell_type": "code",
   "execution_count": 9,
   "metadata": {},
   "outputs": [
    {
     "data": {
      "image/png": "[encoded data removed]",
      "text/plain": [
       "<Figure size 1440x1440 with 6 Axes>"
      ]
     },
     "metadata": {
      "needs_background": "light"
     },
     "output_type": "display_data"
    }
   ],
   "source": [
    "#Finding outliers in all independent feature variables\n",
    "fig,((ax00,ax01),\n",
    "     (ax10,ax11),\n",
    "     (ax20,ax21)) = plt.subplots(3, 2, figsize=(20, 20))\n",
    "\n",
    "#finding outliers of Transaction_date wrt Housing prices\n",
    "ax00.scatter(x=house_data[\"Transaction_date\"],y=house_data[\"Housing_price\"])\n",
    "ax00.set(title=\"Transaction_date outlier\",xlabel=\"Transaction date\",ylabel = \"Housing prices\")\n",
    "\n",
    "# finding outliers of house_age wrt Housing_prices\n",
    "ax01.scatter(x=house_data[\"House_age\"],y = house_data[\"Housing_price\"])\n",
    "ax01.set(title=\"House_age Outlier\",xlabel=\"House age\",ylabel=\"Housing_price\")\n",
    "\n",
    "\n",
    "#finding outliers of Nearest_MRT_station wrt Housing prices\n",
    "ax10.scatter(x=house_data[\"Nearest_MRT_station\"],y=house_data[\"Housing_price\"])\n",
    "ax10.set(title=\"Nearest_MRT_station outlier\",xlabel=\"Nearest MRT station \",ylabel = \"Housing prices\")\n",
    "\n",
    "#finding outliers of Convenient_stores wrt Housing prices\n",
    "ax11.scatter(x=house_data[\"Convenient_stores\"],y=house_data[\"Housing_price\"])\n",
    "ax11.set(title=\"Convenient_stores outlier\",xlabel=\"Convenient_stores\",ylabel = \"Housing prices\")\n",
    "\n",
    "#finding outliers of latitude wrt Housing prices\n",
    "ax20.scatter(x=house_data[\"latitude\"],y=house_data[\"Housing_price\"])\n",
    "ax20.set(title=\"latitude outlier\",xlabel=\"latitude\",ylabel = \"Housing prices\")\n",
    "\n",
    "\n",
    "#finding outliers of longitude wrt Housing prices\n",
    "ax21.scatter(x=house_data[\"longitude\"],y=house_data[\"Housing_price\"])\n",
    "ax21.set(title=\"longitude outlier\",xlabel=\"longitude\",ylabel = \"Housing prices\");\n",
    "\n",
    "\n"
   ]
  },
  {
   "cell_type": "markdown",
   "metadata": {},
   "source": [
    "### Checking type of Data Distribution with the help of histogram"
   ]
  },
  {
   "cell_type": "code",
   "execution_count": 10,
   "metadata": {},
   "outputs": [],
   "source": [
    "#histogram plots of independent feature variable to check type of data distribution"
   ]
  },
  {
   "cell_type": "code",
   "execution_count": 11,
   "metadata": {
    "scrolled": true
   },
   "outputs": [
    {
     "data": {
      "image/png": "[encoded data removed]",
      "text/plain": [
       "<Figure size 1440x1440 with 6 Axes>"
      ]
     },
     "metadata": {
      "needs_background": "light"
     },
     "output_type": "display_data"
    }
   ],
   "source": [
    "fig,((ax00,ax01),\n",
    "     (ax10,ax11),\n",
    "     (ax20,ax21)) = plt.subplots(3, 2, figsize=(20, 20))\n",
    "\n",
    "#finding data distribution of  Transaction_date \n",
    "ax00.hist(x=house_data[\"Transaction_date\"],bins=25)\n",
    "ax00.set(title=\"Transaction_date data distribution\",xlabel=\"Transaction date\")\n",
    "\n",
    "# finding data distribution of house_age \n",
    "ax01.hist(x=house_data[\"House_age\"],bins=52)\n",
    "ax01.set(title=\"House_age data distribution\",xlabel=\"House age\")\n",
    "\n",
    "\n",
    "#finding data distribution of Nearest_MRT_station \n",
    "\n",
    "ax10.hist(x=house_data[\"Nearest_MRT_station\"],bins=52)\n",
    "ax10.set(title=\"Nearest_MRT_station data distribution\",xlabel=\"Nearest MRT station \")\n",
    "\n",
    "#finding data distribution  of Convenient_stores\n",
    "ax11.hist(x=house_data[\"Convenient_stores\"],bins=52)\n",
    "ax11.set(title=\"Convenient_stores data distribution\",xlabel=\"Convenient_stores\")\n",
    "\n",
    "#finding data distribution  of latitude \n",
    "ax20.hist(x=house_data[\"latitude\"],bins=52)\n",
    "ax20.set(title=\"latitude data distribution\",xlabel=\"latitude\")\n",
    "\n",
    "\n",
    "#finding data distribution  of longitude \n",
    "ax21.hist(x=house_data[\"longitude\"],bins=52)\n",
    "ax21.set(title=\"longitude data distribution\",xlabel=\"longitude\");"
   ]
  },
  {
   "cell_type": "markdown",
   "metadata": {},
   "source": [
    "## linear regression assumptions :\n"
   ]
  },
  {
   "cell_type": "code",
   "execution_count": 12,
   "metadata": {},
   "outputs": [],
   "source": [
    "#1.Linearity - linear relationship between independent and dependent variables\n",
    "#2.Homoscedascity - The residuals or errors are equal across the regression line\n",
    "#3.Lack of multicollinearity-lack of linear relationship between independant variables"
   ]
  },
  {
   "cell_type": "markdown",
   "metadata": {},
   "source": [
    "#### 1.   Finding Linear Relationship between dependent and independent variables"
   ]
  },
  {
   "cell_type": "code",
   "execution_count": 13,
   "metadata": {},
   "outputs": [
    {
     "data": {
      "image/png": "[encoded data removed]",
      "text/plain": [
       "<Figure size 1440x1440 with 6 Axes>"
      ]
     },
     "metadata": {
      "needs_background": "light"
     },
     "output_type": "display_data"
    }
   ],
   "source": [
    "#Finding linear relationship between independent and dependent feature variables\n",
    "fig,((ax00,ax01),\n",
    "     (ax10,ax11),\n",
    "     (ax20,ax21)) = plt.subplots(3, 2, figsize=(20, 20))\n",
    "from sklearn.linear_model import LinearRegression\n",
    "\n",
    "#finding linear relationship of Transaction_date wrt Housing prices\n",
    "x1 = house_data.iloc[:,1].values.reshape(-1,1)\n",
    "y1 = house_data.iloc[:,7].values.reshape(-1,1)\n",
    "lr = LinearRegression()\n",
    "lr.fit(x1,y1)\n",
    "y1_preds = lr.predict(x1)\n",
    "ax00.scatter(x1,y1)\n",
    "ax00.plot(x1,y1_preds,color='red')\n",
    "ax00.set(title=\"Transaction_date linear relationship\",xlabel=\"Transaction date\",ylabel = \"Housing prices\")\n",
    "\n",
    "# finding linear relationship  of house_age wrt Housing_prices\n",
    "x2 = house_data.iloc[:,2].values.reshape(-1,1)\n",
    "y1 = house_data.iloc[:,7].values.reshape(-1,1)\n",
    "lr.fit(x2,y1)\n",
    "y1_preds = lr.predict(x2)\n",
    "ax01.scatter(x2,y1)\n",
    "ax01.plot(x2,y1_preds,color='red')\n",
    "ax01.set(title=\"House age linear relationship\",xlabel=\"House age\",ylabel = \"Housing prices\")\n",
    "\n",
    "\n",
    "#finding linear relationship of Nearest_MRT_station wrt Housing prices\n",
    "x3 = house_data.iloc[:,3].values.reshape(-1,1)\n",
    "y1 = house_data.iloc[:,7].values.reshape(-1,1)\n",
    "lr.fit(x3,y1)\n",
    "y1_preds = lr.predict(x3)\n",
    "ax10.scatter(x3,y1)\n",
    "ax10.plot(x3,y1_preds,color='red')\n",
    "ax10.set(title=\"Nearest MRT station linear relationship\",xlabel=\"Nearest MRT station\",ylabel = \"Housing prices\")\n",
    "\n",
    "#finding linear relationship  of Convenient_stores wrt Housing prices\n",
    "x4= house_data.iloc[:,4].values.reshape(-1,1)\n",
    "y1 = house_data.iloc[:,7].values.reshape(-1,1)\n",
    "lr.fit(x4,y1)\n",
    "y1_preds = lr.predict(x4)\n",
    "ax11.scatter(x4,y1)\n",
    "ax11.plot(x4,y1_preds,color='red')\n",
    "ax11.set(title=\"Convenient store linear relationship\",xlabel=\"Nearest MRT station\",ylabel = \"Housing prices\")\n",
    "\n",
    "#finding linear relationship of latitude wrt Housing prices\n",
    "x5= house_data.iloc[:,5].values.reshape(-1,1)\n",
    "y1 = house_data.iloc[:,7].values.reshape(-1,1)\n",
    "lr.fit(x5,y1)\n",
    "y1_preds = lr.predict(x5)\n",
    "ax20.scatter(x5,y1)\n",
    "ax20.plot(x5,y1_preds,color='red')\n",
    "ax20.set(title=\"Latitude linear relationship\",xlabel=\"Latitude\",ylabel = \"Housing prices\")\n",
    "\n",
    "#finding linear relationship  of longitude wrt Housing prices\n",
    "x6 = house_data.iloc[:,6].values.reshape(-1,1)\n",
    "lr.fit(x6,y1)\n",
    "y1_preds = lr.predict(x6)\n",
    "ax21.scatter(x6,y1)\n",
    "ax21.plot(x6,y1_preds,color='red')\n",
    "ax21.set(title=\"longitude linear relationship\",xlabel=\"longitude\",ylabel = \"Housing prices\");\n",
    "\n"
   ]
  },
  {
   "cell_type": "markdown",
   "metadata": {},
   "source": [
    "#### 2.  Check for homoscedasticity"
   ]
  },
  {
   "cell_type": "code",
   "execution_count": 14,
   "metadata": {},
   "outputs": [
    {
     "data": {
      "image/png": "[encoded data removed]",
      "text/plain": [
       "<Figure size 432x288 with 1 Axes>"
      ]
     },
     "metadata": {
      "needs_background": "light"
     },
     "output_type": "display_data"
    }
   ],
   "source": [
    "#Check for Homoscedasticity\n",
    "house_data[\"Time_period\"]=range(1,len(house_data)+1)\n",
    " \n",
    "                            \n",
    "\n",
    "plt.plot(house_data[\"Time_period\"],house_data[\"Housing_price\"])\n",
    "plt.title(\"Housing price vs time series graph\")\n",
    "plt.xlabel(\"Time_period\")\n",
    "plt.ylabel(\"Housing prices\")\n",
    "plt.show()"
   ]
  },
  {
   "cell_type": "code",
   "execution_count": 15,
   "metadata": {},
   "outputs": [
    {
     "data": {
      "text/html": [
       "<div>\n",
       "<style scoped>\n",
       "    .dataframe tbody tr th:only-of-type {\n",
       "        vertical-align: middle;\n",
       "    }\n",
       "\n",
       "    .dataframe tbody tr th {\n",
       "        vertical-align: top;\n",
       "    }\n",
       "\n",
       "    .dataframe thead th {\n",
       "        text-align: right;\n",
       "    }\n",
       "</style>\n",
       "<table border=\"1\" class=\"dataframe\">\n",
       "  <thead>\n",
       "    <tr style=\"text-align: right;\">\n",
       "      <th></th>\n",
       "      <th>No</th>\n",
       "      <th>Transaction_date</th>\n",
       "      <th>House_age</th>\n",
       "      <th>Nearest_MRT_station</th>\n",
       "      <th>Convenient_stores</th>\n",
       "      <th>latitude</th>\n",
       "      <th>longitude</th>\n",
       "      <th>Housing_price</th>\n",
       "      <th>Time_period</th>\n",
       "    </tr>\n",
       "  </thead>\n",
       "  <tbody>\n",
       "    <tr>\n",
       "      <th>0</th>\n",
       "      <td>1</td>\n",
       "      <td>2012.917</td>\n",
       "      <td>32.0</td>\n",
       "      <td>84.87882</td>\n",
       "      <td>10</td>\n",
       "      <td>24.98298</td>\n",
       "      <td>121.54024</td>\n",
       "      <td>37.9</td>\n",
       "      <td>1</td>\n",
       "    </tr>\n",
       "    <tr>\n",
       "      <th>1</th>\n",
       "      <td>2</td>\n",
       "      <td>2012.917</td>\n",
       "      <td>19.5</td>\n",
       "      <td>306.59470</td>\n",
       "      <td>9</td>\n",
       "      <td>24.98034</td>\n",
       "      <td>121.53951</td>\n",
       "      <td>42.2</td>\n",
       "      <td>2</td>\n",
       "    </tr>\n",
       "    <tr>\n",
       "      <th>2</th>\n",
       "      <td>3</td>\n",
       "      <td>2013.583</td>\n",
       "      <td>13.3</td>\n",
       "      <td>561.98450</td>\n",
       "      <td>5</td>\n",
       "      <td>24.98746</td>\n",
       "      <td>121.54391</td>\n",
       "      <td>47.3</td>\n",
       "      <td>3</td>\n",
       "    </tr>\n",
       "    <tr>\n",
       "      <th>3</th>\n",
       "      <td>4</td>\n",
       "      <td>2013.500</td>\n",
       "      <td>13.3</td>\n",
       "      <td>561.98450</td>\n",
       "      <td>5</td>\n",
       "      <td>24.98746</td>\n",
       "      <td>121.54391</td>\n",
       "      <td>54.8</td>\n",
       "      <td>4</td>\n",
       "    </tr>\n",
       "    <tr>\n",
       "      <th>4</th>\n",
       "      <td>5</td>\n",
       "      <td>2012.833</td>\n",
       "      <td>5.0</td>\n",
       "      <td>390.56840</td>\n",
       "      <td>5</td>\n",
       "      <td>24.97937</td>\n",
       "      <td>121.54245</td>\n",
       "      <td>43.1</td>\n",
       "      <td>5</td>\n",
       "    </tr>\n",
       "  </tbody>\n",
       "</table>\n",
       "</div>"
      ],
      "text/plain": [
       "   No  Transaction_date  House_age  Nearest_MRT_station  Convenient_stores  \\\n",
       "0   1          2012.917       32.0             84.87882                 10   \n",
       "1   2          2012.917       19.5            306.59470                  9   \n",
       "2   3          2013.583       13.3            561.98450                  5   \n",
       "3   4          2013.500       13.3            561.98450                  5   \n",
       "4   5          2012.833        5.0            390.56840                  5   \n",
       "\n",
       "   latitude  longitude  Housing_price  Time_period  \n",
       "0  24.98298  121.54024           37.9            1  \n",
       "1  24.98034  121.53951           42.2            2  \n",
       "2  24.98746  121.54391           47.3            3  \n",
       "3  24.98746  121.54391           54.8            4  \n",
       "4  24.97937  121.54245           43.1            5  "
      ]
     },
     "execution_count": 15,
     "metadata": {},
     "output_type": "execute_result"
    }
   ],
   "source": [
    "house_data.head()"
   ]
  },
  {
   "cell_type": "code",
   "execution_count": 16,
   "metadata": {},
   "outputs": [],
   "source": [
    "house_data.drop(\"Time_period\",axis=1,inplace=True)"
   ]
  },
  {
   "cell_type": "code",
   "execution_count": 17,
   "metadata": {},
   "outputs": [
    {
     "data": {
      "text/html": [
       "<div>\n",
       "<style scoped>\n",
       "    .dataframe tbody tr th:only-of-type {\n",
       "        vertical-align: middle;\n",
       "    }\n",
       "\n",
       "    .dataframe tbody tr th {\n",
       "        vertical-align: top;\n",
       "    }\n",
       "\n",
       "    .dataframe thead th {\n",
       "        text-align: right;\n",
       "    }\n",
       "</style>\n",
       "<table border=\"1\" class=\"dataframe\">\n",
       "  <thead>\n",
       "    <tr style=\"text-align: right;\">\n",
       "      <th></th>\n",
       "      <th>No</th>\n",
       "      <th>Transaction_date</th>\n",
       "      <th>House_age</th>\n",
       "      <th>Nearest_MRT_station</th>\n",
       "      <th>Convenient_stores</th>\n",
       "      <th>latitude</th>\n",
       "      <th>longitude</th>\n",
       "      <th>Housing_price</th>\n",
       "    </tr>\n",
       "  </thead>\n",
       "  <tbody>\n",
       "    <tr>\n",
       "      <th>0</th>\n",
       "      <td>1</td>\n",
       "      <td>2012.917</td>\n",
       "      <td>32.0</td>\n",
       "      <td>84.87882</td>\n",
       "      <td>10</td>\n",
       "      <td>24.98298</td>\n",
       "      <td>121.54024</td>\n",
       "      <td>37.9</td>\n",
       "    </tr>\n",
       "    <tr>\n",
       "      <th>1</th>\n",
       "      <td>2</td>\n",
       "      <td>2012.917</td>\n",
       "      <td>19.5</td>\n",
       "      <td>306.59470</td>\n",
       "      <td>9</td>\n",
       "      <td>24.98034</td>\n",
       "      <td>121.53951</td>\n",
       "      <td>42.2</td>\n",
       "    </tr>\n",
       "    <tr>\n",
       "      <th>2</th>\n",
       "      <td>3</td>\n",
       "      <td>2013.583</td>\n",
       "      <td>13.3</td>\n",
       "      <td>561.98450</td>\n",
       "      <td>5</td>\n",
       "      <td>24.98746</td>\n",
       "      <td>121.54391</td>\n",
       "      <td>47.3</td>\n",
       "    </tr>\n",
       "    <tr>\n",
       "      <th>3</th>\n",
       "      <td>4</td>\n",
       "      <td>2013.500</td>\n",
       "      <td>13.3</td>\n",
       "      <td>561.98450</td>\n",
       "      <td>5</td>\n",
       "      <td>24.98746</td>\n",
       "      <td>121.54391</td>\n",
       "      <td>54.8</td>\n",
       "    </tr>\n",
       "    <tr>\n",
       "      <th>4</th>\n",
       "      <td>5</td>\n",
       "      <td>2012.833</td>\n",
       "      <td>5.0</td>\n",
       "      <td>390.56840</td>\n",
       "      <td>5</td>\n",
       "      <td>24.97937</td>\n",
       "      <td>121.54245</td>\n",
       "      <td>43.1</td>\n",
       "    </tr>\n",
       "  </tbody>\n",
       "</table>\n",
       "</div>"
      ],
      "text/plain": [
       "   No  Transaction_date  House_age  Nearest_MRT_station  Convenient_stores  \\\n",
       "0   1          2012.917       32.0             84.87882                 10   \n",
       "1   2          2012.917       19.5            306.59470                  9   \n",
       "2   3          2013.583       13.3            561.98450                  5   \n",
       "3   4          2013.500       13.3            561.98450                  5   \n",
       "4   5          2012.833        5.0            390.56840                  5   \n",
       "\n",
       "   latitude  longitude  Housing_price  \n",
       "0  24.98298  121.54024           37.9  \n",
       "1  24.98034  121.53951           42.2  \n",
       "2  24.98746  121.54391           47.3  \n",
       "3  24.98746  121.54391           54.8  \n",
       "4  24.97937  121.54245           43.1  "
      ]
     },
     "execution_count": 17,
     "metadata": {},
     "output_type": "execute_result"
    }
   ],
   "source": [
    "house_data.head()"
   ]
  },
  {
   "cell_type": "markdown",
   "metadata": {},
   "source": [
    "#### 3.  Check for Multicollinearity"
   ]
  },
  {
   "cell_type": "code",
   "execution_count": 18,
   "metadata": {},
   "outputs": [
    {
     "data": {
      "image/png": "[encoded data removed]",
      "text/plain": [
       "<Figure size 720x720 with 2 Axes>"
      ]
     },
     "metadata": {
      "needs_background": "light"
     },
     "output_type": "display_data"
    }
   ],
   "source": [
    "#correlation matrix: Checking of multicollinearity\n",
    "corr = house_data.corr()\n",
    "fig,ax = plt.subplots(figsize=(10,10))\n",
    "ax = sns.heatmap(\n",
    "    corr, \n",
    "    annot = True,\n",
    "    fmt='.1g',\n",
    "    vmin=-1, vmax=1, center=0,\n",
    "    linewidths=3,\n",
    "    linecolor='black',\n",
    "    cmap=sns.diverging_palette(20, 220, n=200),\n",
    "    square=True\n",
    ")\n",
    "ax.set_xticklabels(\n",
    "    ax.get_xticklabels(),\n",
    "    rotation=45,\n",
    "    horizontalalignment='right'\n",
    ");"
   ]
  },
  {
   "cell_type": "markdown",
   "metadata": {},
   "source": [
    "### Getting the Data Ready i.e X and Y"
   ]
  },
  {
   "cell_type": "code",
   "execution_count": 19,
   "metadata": {},
   "outputs": [],
   "source": [
    "#getting the data ready\n",
    "#x = predictor variables\n",
    "#y = target variable\n",
    "x = house_data.drop(\"Housing_price\",axis=1)\n",
    "y = house_data[\"Housing_price\"]"
   ]
  },
  {
   "cell_type": "code",
   "execution_count": 20,
   "metadata": {},
   "outputs": [
    {
     "data": {
      "text/html": [
       "<div>\n",
       "<style scoped>\n",
       "    .dataframe tbody tr th:only-of-type {\n",
       "        vertical-align: middle;\n",
       "    }\n",
       "\n",
       "    .dataframe tbody tr th {\n",
       "        vertical-align: top;\n",
       "    }\n",
       "\n",
       "    .dataframe thead th {\n",
       "        text-align: right;\n",
       "    }\n",
       "</style>\n",
       "<table border=\"1\" class=\"dataframe\">\n",
       "  <thead>\n",
       "    <tr style=\"text-align: right;\">\n",
       "      <th></th>\n",
       "      <th>No</th>\n",
       "      <th>Transaction_date</th>\n",
       "      <th>House_age</th>\n",
       "      <th>Nearest_MRT_station</th>\n",
       "      <th>Convenient_stores</th>\n",
       "      <th>latitude</th>\n",
       "      <th>longitude</th>\n",
       "    </tr>\n",
       "  </thead>\n",
       "  <tbody>\n",
       "    <tr>\n",
       "      <th>0</th>\n",
       "      <td>1</td>\n",
       "      <td>2012.917</td>\n",
       "      <td>32.0</td>\n",
       "      <td>84.87882</td>\n",
       "      <td>10</td>\n",
       "      <td>24.98298</td>\n",
       "      <td>121.54024</td>\n",
       "    </tr>\n",
       "    <tr>\n",
       "      <th>1</th>\n",
       "      <td>2</td>\n",
       "      <td>2012.917</td>\n",
       "      <td>19.5</td>\n",
       "      <td>306.59470</td>\n",
       "      <td>9</td>\n",
       "      <td>24.98034</td>\n",
       "      <td>121.53951</td>\n",
       "    </tr>\n",
       "    <tr>\n",
       "      <th>2</th>\n",
       "      <td>3</td>\n",
       "      <td>2013.583</td>\n",
       "      <td>13.3</td>\n",
       "      <td>561.98450</td>\n",
       "      <td>5</td>\n",
       "      <td>24.98746</td>\n",
       "      <td>121.54391</td>\n",
       "    </tr>\n",
       "    <tr>\n",
       "      <th>3</th>\n",
       "      <td>4</td>\n",
       "      <td>2013.500</td>\n",
       "      <td>13.3</td>\n",
       "      <td>561.98450</td>\n",
       "      <td>5</td>\n",
       "      <td>24.98746</td>\n",
       "      <td>121.54391</td>\n",
       "    </tr>\n",
       "    <tr>\n",
       "      <th>4</th>\n",
       "      <td>5</td>\n",
       "      <td>2012.833</td>\n",
       "      <td>5.0</td>\n",
       "      <td>390.56840</td>\n",
       "      <td>5</td>\n",
       "      <td>24.97937</td>\n",
       "      <td>121.54245</td>\n",
       "    </tr>\n",
       "  </tbody>\n",
       "</table>\n",
       "</div>"
      ],
      "text/plain": [
       "   No  Transaction_date  House_age  Nearest_MRT_station  Convenient_stores  \\\n",
       "0   1          2012.917       32.0             84.87882                 10   \n",
       "1   2          2012.917       19.5            306.59470                  9   \n",
       "2   3          2013.583       13.3            561.98450                  5   \n",
       "3   4          2013.500       13.3            561.98450                  5   \n",
       "4   5          2012.833        5.0            390.56840                  5   \n",
       "\n",
       "   latitude  longitude  \n",
       "0  24.98298  121.54024  \n",
       "1  24.98034  121.53951  \n",
       "2  24.98746  121.54391  \n",
       "3  24.98746  121.54391  \n",
       "4  24.97937  121.54245  "
      ]
     },
     "execution_count": 20,
     "metadata": {},
     "output_type": "execute_result"
    }
   ],
   "source": [
    "x.head()"
   ]
  },
  {
   "cell_type": "code",
   "execution_count": 21,
   "metadata": {},
   "outputs": [
    {
     "data": {
      "text/plain": [
       "0    37.9\n",
       "1    42.2\n",
       "2    47.3\n",
       "3    54.8\n",
       "4    43.1\n",
       "Name: Housing_price, dtype: float64"
      ]
     },
     "execution_count": 21,
     "metadata": {},
     "output_type": "execute_result"
    }
   ],
   "source": [
    "y.head()"
   ]
  },
  {
   "cell_type": "markdown",
   "metadata": {},
   "source": [
    "### Splitting the Data"
   ]
  },
  {
   "cell_type": "code",
   "execution_count": 22,
   "metadata": {},
   "outputs": [],
   "source": [
    "#splitting the data\n",
    "np.random.seed(42)\n",
    "from sklearn.model_selection import train_test_split\n",
    "x_train,x_test,y_train,y_test = train_test_split(x,y,test_size=0.2)\n",
    "\n"
   ]
  },
  {
   "cell_type": "markdown",
   "metadata": {},
   "source": [
    "### Feature Scaling"
   ]
  },
  {
   "cell_type": "code",
   "execution_count": 23,
   "metadata": {},
   "outputs": [],
   "source": [
    "#Feature scaling\n",
    "from sklearn.preprocessing import StandardScaler\n",
    "sc_x = StandardScaler()\n",
    "x_train = sc_x.fit_transform(x_train)\n",
    "x_test = sc_x.transform(x_test)"
   ]
  },
  {
   "cell_type": "markdown",
   "metadata": {},
   "source": [
    "### Modelling"
   ]
  },
  {
   "cell_type": "code",
   "execution_count": 24,
   "metadata": {},
   "outputs": [
    {
     "data": {
      "text/plain": [
       "LinearRegression()"
      ]
     },
     "execution_count": 24,
     "metadata": {},
     "output_type": "execute_result"
    }
   ],
   "source": [
    "#modelling\n",
    "from sklearn.linear_model import LinearRegression\n",
    "lr = LinearRegression()\n",
    "lr.fit(x_train,y_train)"
   ]
  },
  {
   "cell_type": "markdown",
   "metadata": {},
   "source": [
    "### Making Predictions"
   ]
  },
  {
   "cell_type": "code",
   "execution_count": 25,
   "metadata": {},
   "outputs": [
    {
     "data": {
      "text/html": [
       "<div>\n",
       "<style scoped>\n",
       "    .dataframe tbody tr th:only-of-type {\n",
       "        vertical-align: middle;\n",
       "    }\n",
       "\n",
       "    .dataframe tbody tr th {\n",
       "        vertical-align: top;\n",
       "    }\n",
       "\n",
       "    .dataframe thead th {\n",
       "        text-align: right;\n",
       "    }\n",
       "</style>\n",
       "<table border=\"1\" class=\"dataframe\">\n",
       "  <thead>\n",
       "    <tr style=\"text-align: right;\">\n",
       "      <th></th>\n",
       "      <th>actual values</th>\n",
       "      <th>Predicted values</th>\n",
       "    </tr>\n",
       "  </thead>\n",
       "  <tbody>\n",
       "    <tr>\n",
       "      <th>358</th>\n",
       "      <td>45.1</td>\n",
       "      <td>47.046459</td>\n",
       "    </tr>\n",
       "    <tr>\n",
       "      <th>350</th>\n",
       "      <td>42.3</td>\n",
       "      <td>40.407830</td>\n",
       "    </tr>\n",
       "    <tr>\n",
       "      <th>373</th>\n",
       "      <td>52.2</td>\n",
       "      <td>43.374640</td>\n",
       "    </tr>\n",
       "    <tr>\n",
       "      <th>399</th>\n",
       "      <td>37.3</td>\n",
       "      <td>39.206004</td>\n",
       "    </tr>\n",
       "    <tr>\n",
       "      <th>369</th>\n",
       "      <td>22.8</td>\n",
       "      <td>26.628180</td>\n",
       "    </tr>\n",
       "    <tr>\n",
       "      <th>72</th>\n",
       "      <td>36.3</td>\n",
       "      <td>45.892396</td>\n",
       "    </tr>\n",
       "    <tr>\n",
       "      <th>262</th>\n",
       "      <td>53.0</td>\n",
       "      <td>44.338889</td>\n",
       "    </tr>\n",
       "    <tr>\n",
       "      <th>140</th>\n",
       "      <td>51.4</td>\n",
       "      <td>46.744485</td>\n",
       "    </tr>\n",
       "    <tr>\n",
       "      <th>93</th>\n",
       "      <td>16.1</td>\n",
       "      <td>24.432352</td>\n",
       "    </tr>\n",
       "    <tr>\n",
       "      <th>70</th>\n",
       "      <td>59.0</td>\n",
       "      <td>55.062585</td>\n",
       "    </tr>\n",
       "    <tr>\n",
       "      <th>118</th>\n",
       "      <td>30.6</td>\n",
       "      <td>34.608490</td>\n",
       "    </tr>\n",
       "    <tr>\n",
       "      <th>131</th>\n",
       "      <td>30.7</td>\n",
       "      <td>36.923863</td>\n",
       "    </tr>\n",
       "    <tr>\n",
       "      <th>336</th>\n",
       "      <td>35.6</td>\n",
       "      <td>36.764210</td>\n",
       "    </tr>\n",
       "    <tr>\n",
       "      <th>55</th>\n",
       "      <td>13.7</td>\n",
       "      <td>24.304949</td>\n",
       "    </tr>\n",
       "    <tr>\n",
       "      <th>126</th>\n",
       "      <td>62.9</td>\n",
       "      <td>35.795198</td>\n",
       "    </tr>\n",
       "    <tr>\n",
       "      <th>376</th>\n",
       "      <td>30.5</td>\n",
       "      <td>33.448100</td>\n",
       "    </tr>\n",
       "    <tr>\n",
       "      <th>56</th>\n",
       "      <td>41.9</td>\n",
       "      <td>44.249933</td>\n",
       "    </tr>\n",
       "    <tr>\n",
       "      <th>291</th>\n",
       "      <td>54.4</td>\n",
       "      <td>44.986547</td>\n",
       "    </tr>\n",
       "    <tr>\n",
       "      <th>365</th>\n",
       "      <td>29.5</td>\n",
       "      <td>29.180965</td>\n",
       "    </tr>\n",
       "    <tr>\n",
       "      <th>84</th>\n",
       "      <td>43.7</td>\n",
       "      <td>44.807113</td>\n",
       "    </tr>\n",
       "    <tr>\n",
       "      <th>116</th>\n",
       "      <td>12.2</td>\n",
       "      <td>1.152599</td>\n",
       "    </tr>\n",
       "  </tbody>\n",
       "</table>\n",
       "</div>"
      ],
      "text/plain": [
       "     actual values  Predicted values\n",
       "358           45.1         47.046459\n",
       "350           42.3         40.407830\n",
       "373           52.2         43.374640\n",
       "399           37.3         39.206004\n",
       "369           22.8         26.628180\n",
       "72            36.3         45.892396\n",
       "262           53.0         44.338889\n",
       "140           51.4         46.744485\n",
       "93            16.1         24.432352\n",
       "70            59.0         55.062585\n",
       "118           30.6         34.608490\n",
       "131           30.7         36.923863\n",
       "336           35.6         36.764210\n",
       "55            13.7         24.304949\n",
       "126           62.9         35.795198\n",
       "376           30.5         33.448100\n",
       "56            41.9         44.249933\n",
       "291           54.4         44.986547\n",
       "365           29.5         29.180965\n",
       "84            43.7         44.807113\n",
       "116           12.2          1.152599"
      ]
     },
     "execution_count": 25,
     "metadata": {},
     "output_type": "execute_result"
    }
   ],
   "source": [
    "#making predictions\n",
    "y_preds = lr.predict(x_test)\n",
    "\n",
    "df = pd.DataFrame({\"actual values\":y_test[:21],\n",
    "                  \"Predicted values\":y_preds[:21]})\n",
    "df"
   ]
  },
  {
   "cell_type": "code",
   "execution_count": 26,
   "metadata": {},
   "outputs": [
    {
     "data": {
      "image/png": "[encoded data removed]",
      "text/plain": [
       "<Figure size 432x288 with 1 Axes>"
      ]
     },
     "metadata": {
      "needs_background": "light"
     },
     "output_type": "display_data"
    }
   ],
   "source": [
    "#visualizing the predictions\n",
    "#making predictions\n",
    "y_preds = lr.predict(x_test)\n",
    "y1_preds=np.array(y_preds)\n",
    "y1_test=np.array(y_test)\n",
    "df1 = pd.DataFrame({\"actual values\":y1_test[:21].flatten(),\n",
    "                  \"Predicted values\":y1_preds[:21].flatten()})\n",
    "df1.plot(kind=\"bar\")\n",
    "plt.grid(which=\"major\")\n",
    "plt.show()"
   ]
  },
  {
   "cell_type": "markdown",
   "metadata": {},
   "source": [
    "### Evaluating the Model"
   ]
  },
  {
   "cell_type": "code",
   "execution_count": 27,
   "metadata": {},
   "outputs": [
    {
     "data": {
      "text/plain": [
       "0.6745228670350768"
      ]
     },
     "execution_count": 27,
     "metadata": {},
     "output_type": "execute_result"
    }
   ],
   "source": [
    "#evaluating our model through different metrics of regression\n",
    "lr.score(x_test,y_test)"
   ]
  },
  {
   "cell_type": "code",
   "execution_count": 28,
   "metadata": {},
   "outputs": [
    {
     "data": {
      "text/plain": [
       "5.418035098629008"
      ]
     },
     "execution_count": 28,
     "metadata": {},
     "output_type": "execute_result"
    }
   ],
   "source": [
    "#comparing predictions to truth\n",
    "from sklearn.metrics import mean_absolute_error\n",
    "mean_absolute_error(y_test,y_preds)\n"
   ]
  },
  {
   "cell_type": "code",
   "execution_count": 29,
   "metadata": {},
   "outputs": [
    {
     "data": {
      "text/plain": [
       "54.60196067337886"
      ]
     },
     "execution_count": 29,
     "metadata": {},
     "output_type": "execute_result"
    }
   ],
   "source": [
    "from sklearn.metrics import mean_squared_error\n",
    "mean_squared_error(y_test,y_preds)\n"
   ]
  },
  {
   "cell_type": "code",
   "execution_count": 30,
   "metadata": {},
   "outputs": [
    {
     "data": {
      "text/plain": [
       "array([0.71111845, 0.52262859, 0.66295326, 0.44130702, 0.5846813 ])"
      ]
     },
     "execution_count": 30,
     "metadata": {},
     "output_type": "execute_result"
    }
   ],
   "source": [
    "from sklearn.model_selection import cross_val_score\n",
    "cross_val_score(lr,x,y,cv=5)"
   ]
  },
  {
   "cell_type": "markdown",
   "metadata": {},
   "source": [
    "### Optimizing the model through backward elimination"
   ]
  },
  {
   "cell_type": "code",
   "execution_count": 31,
   "metadata": {},
   "outputs": [],
   "source": [
    "#optimizing the model using backward elimination\n",
    "import statsmodels.api as sm\n"
   ]
  },
  {
   "cell_type": "code",
   "execution_count": 32,
   "metadata": {},
   "outputs": [],
   "source": [
    "#adding the constant value B_0 in equation of multiple linear equations\n",
    "x=np.append(arr=np.ones((414,1)).astype(int),values=x,axis=1)"
   ]
  },
  {
   "cell_type": "code",
   "execution_count": 33,
   "metadata": {},
   "outputs": [],
   "source": [
    "d = pd.DataFrame(x)"
   ]
  },
  {
   "cell_type": "code",
   "execution_count": 34,
   "metadata": {},
   "outputs": [
    {
     "data": {
      "text/html": [
       "<div>\n",
       "<style scoped>\n",
       "    .dataframe tbody tr th:only-of-type {\n",
       "        vertical-align: middle;\n",
       "    }\n",
       "\n",
       "    .dataframe tbody tr th {\n",
       "        vertical-align: top;\n",
       "    }\n",
       "\n",
       "    .dataframe thead th {\n",
       "        text-align: right;\n",
       "    }\n",
       "</style>\n",
       "<table border=\"1\" class=\"dataframe\">\n",
       "  <thead>\n",
       "    <tr style=\"text-align: right;\">\n",
       "      <th></th>\n",
       "      <th>0</th>\n",
       "      <th>1</th>\n",
       "      <th>2</th>\n",
       "      <th>3</th>\n",
       "      <th>4</th>\n",
       "      <th>5</th>\n",
       "      <th>6</th>\n",
       "      <th>7</th>\n",
       "    </tr>\n",
       "  </thead>\n",
       "  <tbody>\n",
       "    <tr>\n",
       "      <th>0</th>\n",
       "      <td>1.0</td>\n",
       "      <td>1.0</td>\n",
       "      <td>2012.917</td>\n",
       "      <td>32.0</td>\n",
       "      <td>84.87882</td>\n",
       "      <td>10.0</td>\n",
       "      <td>24.98298</td>\n",
       "      <td>121.54024</td>\n",
       "    </tr>\n",
       "    <tr>\n",
       "      <th>1</th>\n",
       "      <td>1.0</td>\n",
       "      <td>2.0</td>\n",
       "      <td>2012.917</td>\n",
       "      <td>19.5</td>\n",
       "      <td>306.59470</td>\n",
       "      <td>9.0</td>\n",
       "      <td>24.98034</td>\n",
       "      <td>121.53951</td>\n",
       "    </tr>\n",
       "    <tr>\n",
       "      <th>2</th>\n",
       "      <td>1.0</td>\n",
       "      <td>3.0</td>\n",
       "      <td>2013.583</td>\n",
       "      <td>13.3</td>\n",
       "      <td>561.98450</td>\n",
       "      <td>5.0</td>\n",
       "      <td>24.98746</td>\n",
       "      <td>121.54391</td>\n",
       "    </tr>\n",
       "    <tr>\n",
       "      <th>3</th>\n",
       "      <td>1.0</td>\n",
       "      <td>4.0</td>\n",
       "      <td>2013.500</td>\n",
       "      <td>13.3</td>\n",
       "      <td>561.98450</td>\n",
       "      <td>5.0</td>\n",
       "      <td>24.98746</td>\n",
       "      <td>121.54391</td>\n",
       "    </tr>\n",
       "    <tr>\n",
       "      <th>4</th>\n",
       "      <td>1.0</td>\n",
       "      <td>5.0</td>\n",
       "      <td>2012.833</td>\n",
       "      <td>5.0</td>\n",
       "      <td>390.56840</td>\n",
       "      <td>5.0</td>\n",
       "      <td>24.97937</td>\n",
       "      <td>121.54245</td>\n",
       "    </tr>\n",
       "  </tbody>\n",
       "</table>\n",
       "</div>"
      ],
      "text/plain": [
       "     0    1         2     3          4     5         6          7\n",
       "0  1.0  1.0  2012.917  32.0   84.87882  10.0  24.98298  121.54024\n",
       "1  1.0  2.0  2012.917  19.5  306.59470   9.0  24.98034  121.53951\n",
       "2  1.0  3.0  2013.583  13.3  561.98450   5.0  24.98746  121.54391\n",
       "3  1.0  4.0  2013.500  13.3  561.98450   5.0  24.98746  121.54391\n",
       "4  1.0  5.0  2012.833   5.0  390.56840   5.0  24.97937  121.54245"
      ]
     },
     "execution_count": 34,
     "metadata": {},
     "output_type": "execute_result"
    }
   ],
   "source": [
    "d.head()"
   ]
  },
  {
   "cell_type": "markdown",
   "metadata": {},
   "source": [
    "##### Started Backward elimination"
   ]
  },
  {
   "cell_type": "code",
   "execution_count": 35,
   "metadata": {},
   "outputs": [
    {
     "data": {
      "text/html": [
       "<table class=\"simpletable\">\n",
       "<caption>OLS Regression Results</caption>\n",
       "<tr>\n",
       "  <th>Dep. Variable:</th>      <td>Housing_price</td>  <th>  R-squared (uncentered):</th>      <td>   0.952</td> \n",
       "</tr>\n",
       "<tr>\n",
       "  <th>Model:</th>                   <td>OLS</td>       <th>  Adj. R-squared (uncentered):</th> <td>   0.951</td> \n",
       "</tr>\n",
       "<tr>\n",
       "  <th>Method:</th>             <td>Least Squares</td>  <th>  F-statistic:       </th>          <td>   1159.</td> \n",
       "</tr>\n",
       "<tr>\n",
       "  <th>Date:</th>             <td>Fri, 27 Nov 2020</td> <th>  Prob (F-statistic):</th>          <td>2.80e-264</td>\n",
       "</tr>\n",
       "<tr>\n",
       "  <th>Time:</th>                 <td>22:47:24</td>     <th>  Log-Likelihood:    </th>          <td> -1488.6</td> \n",
       "</tr>\n",
       "<tr>\n",
       "  <th>No. Observations:</th>      <td>   414</td>      <th>  AIC:               </th>          <td>   2991.</td> \n",
       "</tr>\n",
       "<tr>\n",
       "  <th>Df Residuals:</th>          <td>   407</td>      <th>  BIC:               </th>          <td>   3019.</td> \n",
       "</tr>\n",
       "<tr>\n",
       "  <th>Df Model:</th>              <td>     7</td>      <th>                     </th>              <td> </td>    \n",
       "</tr>\n",
       "<tr>\n",
       "  <th>Covariance Type:</th>      <td>nonrobust</td>    <th>                     </th>              <td> </td>    \n",
       "</tr>\n",
       "</table>\n",
       "<table class=\"simpletable\">\n",
       "<tr>\n",
       "   <td></td>     <th>coef</th>     <th>std err</th>      <th>t</th>      <th>P>|t|</th>  <th>[0.025</th>    <th>0.975]</th>  \n",
       "</tr>\n",
       "<tr>\n",
       "  <th>x1</th> <td>   -0.0040</td> <td>    0.004</td> <td>   -1.105</td> <td> 0.270</td> <td>   -0.011</td> <td>    0.003</td>\n",
       "</tr>\n",
       "<tr>\n",
       "  <th>x2</th> <td>    3.7082</td> <td>    1.416</td> <td>    2.618</td> <td> 0.009</td> <td>    0.924</td> <td>    6.492</td>\n",
       "</tr>\n",
       "<tr>\n",
       "  <th>x3</th> <td>   -0.2721</td> <td>    0.039</td> <td>   -7.030</td> <td> 0.000</td> <td>   -0.348</td> <td>   -0.196</td>\n",
       "</tr>\n",
       "<tr>\n",
       "  <th>x4</th> <td>   -0.0055</td> <td>    0.001</td> <td>  -10.134</td> <td> 0.000</td> <td>   -0.007</td> <td>   -0.004</td>\n",
       "</tr>\n",
       "<tr>\n",
       "  <th>x5</th> <td>    1.1247</td> <td>    0.189</td> <td>    5.952</td> <td> 0.000</td> <td>    0.753</td> <td>    1.496</td>\n",
       "</tr>\n",
       "<tr>\n",
       "  <th>x6</th> <td>  203.1030</td> <td>   43.513</td> <td>    4.668</td> <td> 0.000</td> <td>  117.566</td> <td>  288.640</td>\n",
       "</tr>\n",
       "<tr>\n",
       "  <th>x7</th> <td> -102.7824</td> <td>   23.311</td> <td>   -4.409</td> <td> 0.000</td> <td> -148.607</td> <td>  -56.958</td>\n",
       "</tr>\n",
       "</table>\n",
       "<table class=\"simpletable\">\n",
       "<tr>\n",
       "  <th>Omnibus:</th>       <td>226.807</td> <th>  Durbin-Watson:     </th> <td>   2.147</td>\n",
       "</tr>\n",
       "<tr>\n",
       "  <th>Prob(Omnibus):</th> <td> 0.000</td>  <th>  Jarque-Bera (JB):  </th> <td>3409.172</td>\n",
       "</tr>\n",
       "<tr>\n",
       "  <th>Skew:</th>          <td> 1.979</td>  <th>  Prob(JB):          </th> <td>    0.00</td>\n",
       "</tr>\n",
       "<tr>\n",
       "  <th>Kurtosis:</th>      <td>16.489</td>  <th>  Cond. No.          </th> <td>2.40e+05</td>\n",
       "</tr>\n",
       "</table><br/><br/>Warnings:<br/>[1] Standard Errors assume that the covariance matrix of the errors is correctly specified.<br/>[2] The condition number is large, 2.4e+05. This might indicate that there are<br/>strong multicollinearity or other numerical problems."
      ],
      "text/plain": [
       "<class 'statsmodels.iolib.summary.Summary'>\n",
       "\"\"\"\n",
       "                                 OLS Regression Results                                \n",
       "=======================================================================================\n",
       "Dep. Variable:          Housing_price   R-squared (uncentered):                   0.952\n",
       "Model:                            OLS   Adj. R-squared (uncentered):              0.951\n",
       "Method:                 Least Squares   F-statistic:                              1159.\n",
       "Date:                Fri, 27 Nov 2020   Prob (F-statistic):                   2.80e-264\n",
       "Time:                        22:47:24   Log-Likelihood:                         -1488.6\n",
       "No. Observations:                 414   AIC:                                      2991.\n",
       "Df Residuals:                     407   BIC:                                      3019.\n",
       "Df Model:                           7                                                  \n",
       "Covariance Type:            nonrobust                                                  \n",
       "==============================================================================\n",
       "                 coef    std err          t      P>|t|      [0.025      0.975]\n",
       "------------------------------------------------------------------------------\n",
       "x1            -0.0040      0.004     -1.105      0.270      -0.011       0.003\n",
       "x2             3.7082      1.416      2.618      0.009       0.924       6.492\n",
       "x3            -0.2721      0.039     -7.030      0.000      -0.348      -0.196\n",
       "x4            -0.0055      0.001    -10.134      0.000      -0.007      -0.004\n",
       "x5             1.1247      0.189      5.952      0.000       0.753       1.496\n",
       "x6           203.1030     43.513      4.668      0.000     117.566     288.640\n",
       "x7          -102.7824     23.311     -4.409      0.000    -148.607     -56.958\n",
       "==============================================================================\n",
       "Omnibus:                      226.807   Durbin-Watson:                   2.147\n",
       "Prob(Omnibus):                  0.000   Jarque-Bera (JB):             3409.172\n",
       "Skew:                           1.979   Prob(JB):                         0.00\n",
       "Kurtosis:                      16.489   Cond. No.                     2.40e+05\n",
       "==============================================================================\n",
       "\n",
       "Warnings:\n",
       "[1] Standard Errors assume that the covariance matrix of the errors is correctly specified.\n",
       "[2] The condition number is large, 2.4e+05. This might indicate that there are\n",
       "strong multicollinearity or other numerical problems.\n",
       "\"\"\""
      ]
     },
     "execution_count": 35,
     "metadata": {},
     "output_type": "execute_result"
    }
   ],
   "source": [
    "#Taking significance level = 0.05\n",
    "x_opt=x[:,[1,2,3,4,5,6,7]]\n",
    "lr_OLS=sm.OLS(endog=y,exog=x_opt).fit()\n",
    "lr_OLS.summary()"
   ]
  },
  {
   "cell_type": "code",
   "execution_count": 36,
   "metadata": {},
   "outputs": [
    {
     "data": {
      "text/html": [
       "<table class=\"simpletable\">\n",
       "<caption>OLS Regression Results</caption>\n",
       "<tr>\n",
       "  <th>Dep. Variable:</th>      <td>Housing_price</td>  <th>  R-squared (uncentered):</th>      <td>   0.952</td> \n",
       "</tr>\n",
       "<tr>\n",
       "  <th>Model:</th>                   <td>OLS</td>       <th>  Adj. R-squared (uncentered):</th> <td>   0.951</td> \n",
       "</tr>\n",
       "<tr>\n",
       "  <th>Method:</th>             <td>Least Squares</td>  <th>  F-statistic:       </th>          <td>   1351.</td> \n",
       "</tr>\n",
       "<tr>\n",
       "  <th>Date:</th>             <td>Fri, 27 Nov 2020</td> <th>  Prob (F-statistic):</th>          <td>1.34e-265</td>\n",
       "</tr>\n",
       "<tr>\n",
       "  <th>Time:</th>                 <td>22:47:24</td>     <th>  Log-Likelihood:    </th>          <td> -1489.3</td> \n",
       "</tr>\n",
       "<tr>\n",
       "  <th>No. Observations:</th>      <td>   414</td>      <th>  AIC:               </th>          <td>   2991.</td> \n",
       "</tr>\n",
       "<tr>\n",
       "  <th>Df Residuals:</th>          <td>   408</td>      <th>  BIC:               </th>          <td>   3015.</td> \n",
       "</tr>\n",
       "<tr>\n",
       "  <th>Df Model:</th>              <td>     6</td>      <th>                     </th>              <td> </td>    \n",
       "</tr>\n",
       "<tr>\n",
       "  <th>Covariance Type:</th>      <td>nonrobust</td>    <th>                     </th>              <td> </td>    \n",
       "</tr>\n",
       "</table>\n",
       "<table class=\"simpletable\">\n",
       "<tr>\n",
       "   <td></td>     <th>coef</th>     <th>std err</th>      <th>t</th>      <th>P>|t|</th>  <th>[0.025</th>    <th>0.975]</th>  \n",
       "</tr>\n",
       "<tr>\n",
       "  <th>x1</th> <td>    3.7401</td> <td>    1.416</td> <td>    2.641</td> <td> 0.009</td> <td>    0.956</td> <td>    6.524</td>\n",
       "</tr>\n",
       "<tr>\n",
       "  <th>x2</th> <td>   -0.2708</td> <td>    0.039</td> <td>   -6.999</td> <td> 0.000</td> <td>   -0.347</td> <td>   -0.195</td>\n",
       "</tr>\n",
       "<tr>\n",
       "  <th>x3</th> <td>   -0.0055</td> <td>    0.001</td> <td>  -10.121</td> <td> 0.000</td> <td>   -0.007</td> <td>   -0.004</td>\n",
       "</tr>\n",
       "<tr>\n",
       "  <th>x4</th> <td>    1.1290</td> <td>    0.189</td> <td>    5.975</td> <td> 0.000</td> <td>    0.758</td> <td>    1.501</td>\n",
       "</tr>\n",
       "<tr>\n",
       "  <th>x5</th> <td>  203.3142</td> <td>   43.524</td> <td>    4.671</td> <td> 0.000</td> <td>  117.755</td> <td>  288.873</td>\n",
       "</tr>\n",
       "<tr>\n",
       "  <th>x6</th> <td> -103.3604</td> <td>   23.311</td> <td>   -4.434</td> <td> 0.000</td> <td> -149.185</td> <td>  -57.535</td>\n",
       "</tr>\n",
       "</table>\n",
       "<table class=\"simpletable\">\n",
       "<tr>\n",
       "  <th>Omnibus:</th>       <td>223.806</td> <th>  Durbin-Watson:     </th> <td>   2.140</td>\n",
       "</tr>\n",
       "<tr>\n",
       "  <th>Prob(Omnibus):</th> <td> 0.000</td>  <th>  Jarque-Bera (JB):  </th> <td>3262.680</td>\n",
       "</tr>\n",
       "<tr>\n",
       "  <th>Skew:</th>          <td> 1.954</td>  <th>  Prob(JB):          </th> <td>    0.00</td>\n",
       "</tr>\n",
       "<tr>\n",
       "  <th>Kurtosis:</th>      <td>16.186</td>  <th>  Cond. No.          </th> <td>2.39e+05</td>\n",
       "</tr>\n",
       "</table><br/><br/>Warnings:<br/>[1] Standard Errors assume that the covariance matrix of the errors is correctly specified.<br/>[2] The condition number is large, 2.39e+05. This might indicate that there are<br/>strong multicollinearity or other numerical problems."
      ],
      "text/plain": [
       "<class 'statsmodels.iolib.summary.Summary'>\n",
       "\"\"\"\n",
       "                                 OLS Regression Results                                \n",
       "=======================================================================================\n",
       "Dep. Variable:          Housing_price   R-squared (uncentered):                   0.952\n",
       "Model:                            OLS   Adj. R-squared (uncentered):              0.951\n",
       "Method:                 Least Squares   F-statistic:                              1351.\n",
       "Date:                Fri, 27 Nov 2020   Prob (F-statistic):                   1.34e-265\n",
       "Time:                        22:47:24   Log-Likelihood:                         -1489.3\n",
       "No. Observations:                 414   AIC:                                      2991.\n",
       "Df Residuals:                     408   BIC:                                      3015.\n",
       "Df Model:                           6                                                  \n",
       "Covariance Type:            nonrobust                                                  \n",
       "==============================================================================\n",
       "                 coef    std err          t      P>|t|      [0.025      0.975]\n",
       "------------------------------------------------------------------------------\n",
       "x1             3.7401      1.416      2.641      0.009       0.956       6.524\n",
       "x2            -0.2708      0.039     -6.999      0.000      -0.347      -0.195\n",
       "x3            -0.0055      0.001    -10.121      0.000      -0.007      -0.004\n",
       "x4             1.1290      0.189      5.975      0.000       0.758       1.501\n",
       "x5           203.3142     43.524      4.671      0.000     117.755     288.873\n",
       "x6          -103.3604     23.311     -4.434      0.000    -149.185     -57.535\n",
       "==============================================================================\n",
       "Omnibus:                      223.806   Durbin-Watson:                   2.140\n",
       "Prob(Omnibus):                  0.000   Jarque-Bera (JB):             3262.680\n",
       "Skew:                           1.954   Prob(JB):                         0.00\n",
       "Kurtosis:                      16.186   Cond. No.                     2.39e+05\n",
       "==============================================================================\n",
       "\n",
       "Warnings:\n",
       "[1] Standard Errors assume that the covariance matrix of the errors is correctly specified.\n",
       "[2] The condition number is large, 2.39e+05. This might indicate that there are\n",
       "strong multicollinearity or other numerical problems.\n",
       "\"\"\""
      ]
     },
     "execution_count": 36,
     "metadata": {},
     "output_type": "execute_result"
    }
   ],
   "source": [
    "# Elimination 1\n",
    "x_opt=x[:,[2,3,4,5,6,7]]\n",
    "lr_OLS = sm.OLS(endog=y,exog=x_opt).fit()\n",
    "lr_OLS.summary()"
   ]
  },
  {
   "cell_type": "code",
   "execution_count": 37,
   "metadata": {},
   "outputs": [
    {
     "data": {
      "text/html": [
       "<table class=\"simpletable\">\n",
       "<caption>OLS Regression Results</caption>\n",
       "<tr>\n",
       "  <th>Dep. Variable:</th>      <td>Housing_price</td>  <th>  R-squared (uncentered):</th>      <td>   0.951</td> \n",
       "</tr>\n",
       "<tr>\n",
       "  <th>Model:</th>                   <td>OLS</td>       <th>  Adj. R-squared (uncentered):</th> <td>   0.951</td> \n",
       "</tr>\n",
       "<tr>\n",
       "  <th>Method:</th>             <td>Least Squares</td>  <th>  F-statistic:       </th>          <td>   1596.</td> \n",
       "</tr>\n",
       "<tr>\n",
       "  <th>Date:</th>             <td>Fri, 27 Nov 2020</td> <th>  Prob (F-statistic):</th>          <td>1.01e-265</td>\n",
       "</tr>\n",
       "<tr>\n",
       "  <th>Time:</th>                 <td>22:47:24</td>     <th>  Log-Likelihood:    </th>          <td> -1492.8</td> \n",
       "</tr>\n",
       "<tr>\n",
       "  <th>No. Observations:</th>      <td>   414</td>      <th>  AIC:               </th>          <td>   2996.</td> \n",
       "</tr>\n",
       "<tr>\n",
       "  <th>Df Residuals:</th>          <td>   409</td>      <th>  BIC:               </th>          <td>   3016.</td> \n",
       "</tr>\n",
       "<tr>\n",
       "  <th>Df Model:</th>              <td>     5</td>      <th>                     </th>              <td> </td>    \n",
       "</tr>\n",
       "<tr>\n",
       "  <th>Covariance Type:</th>      <td>nonrobust</td>    <th>                     </th>              <td> </td>    \n",
       "</tr>\n",
       "</table>\n",
       "<table class=\"simpletable\">\n",
       "<tr>\n",
       "   <td></td>     <th>coef</th>     <th>std err</th>      <th>t</th>      <th>P>|t|</th>  <th>[0.025</th>    <th>0.975]</th>  \n",
       "</tr>\n",
       "<tr>\n",
       "  <th>x1</th> <td>   -0.2695</td> <td>    0.039</td> <td>   -6.914</td> <td> 0.000</td> <td>   -0.346</td> <td>   -0.193</td>\n",
       "</tr>\n",
       "<tr>\n",
       "  <th>x2</th> <td>   -0.0047</td> <td>    0.000</td> <td>  -10.306</td> <td> 0.000</td> <td>   -0.006</td> <td>   -0.004</td>\n",
       "</tr>\n",
       "<tr>\n",
       "  <th>x3</th> <td>    1.1579</td> <td>    0.190</td> <td>    6.093</td> <td> 0.000</td> <td>    0.784</td> <td>    1.531</td>\n",
       "</tr>\n",
       "<tr>\n",
       "  <th>x4</th> <td>  227.1115</td> <td>   42.890</td> <td>    5.295</td> <td> 0.000</td> <td>  142.798</td> <td>  311.425</td>\n",
       "</tr>\n",
       "<tr>\n",
       "  <th>x5</th> <td>  -46.3053</td> <td>    8.812</td> <td>   -5.255</td> <td> 0.000</td> <td>  -63.627</td> <td>  -28.984</td>\n",
       "</tr>\n",
       "</table>\n",
       "<table class=\"simpletable\">\n",
       "<tr>\n",
       "  <th>Omnibus:</th>       <td>235.995</td> <th>  Durbin-Watson:     </th> <td>   2.144</td>\n",
       "</tr>\n",
       "<tr>\n",
       "  <th>Prob(Omnibus):</th> <td> 0.000</td>  <th>  Jarque-Bera (JB):  </th> <td>3585.764</td>\n",
       "</tr>\n",
       "<tr>\n",
       "  <th>Skew:</th>          <td> 2.088</td>  <th>  Prob(JB):          </th> <td>    0.00</td>\n",
       "</tr>\n",
       "<tr>\n",
       "  <th>Kurtosis:</th>      <td>16.800</td>  <th>  Cond. No.          </th> <td>1.65e+05</td>\n",
       "</tr>\n",
       "</table><br/><br/>Warnings:<br/>[1] Standard Errors assume that the covariance matrix of the errors is correctly specified.<br/>[2] The condition number is large, 1.65e+05. This might indicate that there are<br/>strong multicollinearity or other numerical problems."
      ],
      "text/plain": [
       "<class 'statsmodels.iolib.summary.Summary'>\n",
       "\"\"\"\n",
       "                                 OLS Regression Results                                \n",
       "=======================================================================================\n",
       "Dep. Variable:          Housing_price   R-squared (uncentered):                   0.951\n",
       "Model:                            OLS   Adj. R-squared (uncentered):              0.951\n",
       "Method:                 Least Squares   F-statistic:                              1596.\n",
       "Date:                Fri, 27 Nov 2020   Prob (F-statistic):                   1.01e-265\n",
       "Time:                        22:47:24   Log-Likelihood:                         -1492.8\n",
       "No. Observations:                 414   AIC:                                      2996.\n",
       "Df Residuals:                     409   BIC:                                      3016.\n",
       "Df Model:                           5                                                  \n",
       "Covariance Type:            nonrobust                                                  \n",
       "==============================================================================\n",
       "                 coef    std err          t      P>|t|      [0.025      0.975]\n",
       "------------------------------------------------------------------------------\n",
       "x1            -0.2695      0.039     -6.914      0.000      -0.346      -0.193\n",
       "x2            -0.0047      0.000    -10.306      0.000      -0.006      -0.004\n",
       "x3             1.1579      0.190      6.093      0.000       0.784       1.531\n",
       "x4           227.1115     42.890      5.295      0.000     142.798     311.425\n",
       "x5           -46.3053      8.812     -5.255      0.000     -63.627     -28.984\n",
       "==============================================================================\n",
       "Omnibus:                      235.995   Durbin-Watson:                   2.144\n",
       "Prob(Omnibus):                  0.000   Jarque-Bera (JB):             3585.764\n",
       "Skew:                           2.088   Prob(JB):                         0.00\n",
       "Kurtosis:                      16.800   Cond. No.                     1.65e+05\n",
       "==============================================================================\n",
       "\n",
       "Warnings:\n",
       "[1] Standard Errors assume that the covariance matrix of the errors is correctly specified.\n",
       "[2] The condition number is large, 1.65e+05. This might indicate that there are\n",
       "strong multicollinearity or other numerical problems.\n",
       "\"\"\""
      ]
     },
     "execution_count": 37,
     "metadata": {},
     "output_type": "execute_result"
    }
   ],
   "source": [
    "# Elimination 2\n",
    "x_opt = x[:,[3,4,5,6,7]]\n",
    "lr_OLS = sm.OLS(endog=y,exog=x_opt).fit()\n",
    "lr_OLS.summary()\n"
   ]
  },
  {
   "cell_type": "code",
   "execution_count": 38,
   "metadata": {},
   "outputs": [
    {
     "data": {
      "text/html": [
       "<table class=\"simpletable\">\n",
       "<caption>OLS Regression Results</caption>\n",
       "<tr>\n",
       "  <th>Dep. Variable:</th>      <td>Housing_price</td>  <th>  R-squared (uncentered):</th>      <td>   0.946</td> \n",
       "</tr>\n",
       "<tr>\n",
       "  <th>Model:</th>                   <td>OLS</td>       <th>  Adj. R-squared (uncentered):</th> <td>   0.945</td> \n",
       "</tr>\n",
       "<tr>\n",
       "  <th>Method:</th>             <td>Least Squares</td>  <th>  F-statistic:       </th>          <td>   1780.</td> \n",
       "</tr>\n",
       "<tr>\n",
       "  <th>Date:</th>             <td>Fri, 27 Nov 2020</td> <th>  Prob (F-statistic):</th>          <td>1.47e-257</td>\n",
       "</tr>\n",
       "<tr>\n",
       "  <th>Time:</th>                 <td>22:47:24</td>     <th>  Log-Likelihood:    </th>          <td> -1515.7</td> \n",
       "</tr>\n",
       "<tr>\n",
       "  <th>No. Observations:</th>      <td>   414</td>      <th>  AIC:               </th>          <td>   3039.</td> \n",
       "</tr>\n",
       "<tr>\n",
       "  <th>Df Residuals:</th>          <td>   410</td>      <th>  BIC:               </th>          <td>   3055.</td> \n",
       "</tr>\n",
       "<tr>\n",
       "  <th>Df Model:</th>              <td>     4</td>      <th>                     </th>              <td> </td>    \n",
       "</tr>\n",
       "<tr>\n",
       "  <th>Covariance Type:</th>      <td>nonrobust</td>    <th>                     </th>              <td> </td>    \n",
       "</tr>\n",
       "</table>\n",
       "<table class=\"simpletable\">\n",
       "<tr>\n",
       "   <td></td>     <th>coef</th>     <th>std err</th>      <th>t</th>      <th>P>|t|</th>  <th>[0.025</th>    <th>0.975]</th>  \n",
       "</tr>\n",
       "<tr>\n",
       "  <th>x1</th> <td>   -0.0050</td> <td>    0.000</td> <td>  -10.389</td> <td> 0.000</td> <td>   -0.006</td> <td>   -0.004</td>\n",
       "</tr>\n",
       "<tr>\n",
       "  <th>x2</th> <td>    1.0668</td> <td>    0.200</td> <td>    5.332</td> <td> 0.000</td> <td>    0.673</td> <td>    1.460</td>\n",
       "</tr>\n",
       "<tr>\n",
       "  <th>x3</th> <td>  203.2124</td> <td>   45.125</td> <td>    4.503</td> <td> 0.000</td> <td>  114.506</td> <td>  291.918</td>\n",
       "</tr>\n",
       "<tr>\n",
       "  <th>x4</th> <td>  -41.4289</td> <td>    9.271</td> <td>   -4.469</td> <td> 0.000</td> <td>  -59.654</td> <td>  -23.204</td>\n",
       "</tr>\n",
       "</table>\n",
       "<table class=\"simpletable\">\n",
       "<tr>\n",
       "  <th>Omnibus:</th>       <td>199.634</td> <th>  Durbin-Watson:     </th> <td>   2.140</td>\n",
       "</tr>\n",
       "<tr>\n",
       "  <th>Prob(Omnibus):</th> <td> 0.000</td>  <th>  Jarque-Bera (JB):  </th> <td>2347.984</td>\n",
       "</tr>\n",
       "<tr>\n",
       "  <th>Skew:</th>          <td> 1.744</td>  <th>  Prob(JB):          </th> <td>    0.00</td>\n",
       "</tr>\n",
       "<tr>\n",
       "  <th>Kurtosis:</th>      <td>14.133</td>  <th>  Cond. No.          </th> <td>1.65e+05</td>\n",
       "</tr>\n",
       "</table><br/><br/>Warnings:<br/>[1] Standard Errors assume that the covariance matrix of the errors is correctly specified.<br/>[2] The condition number is large, 1.65e+05. This might indicate that there are<br/>strong multicollinearity or other numerical problems."
      ],
      "text/plain": [
       "<class 'statsmodels.iolib.summary.Summary'>\n",
       "\"\"\"\n",
       "                                 OLS Regression Results                                \n",
       "=======================================================================================\n",
       "Dep. Variable:          Housing_price   R-squared (uncentered):                   0.946\n",
       "Model:                            OLS   Adj. R-squared (uncentered):              0.945\n",
       "Method:                 Least Squares   F-statistic:                              1780.\n",
       "Date:                Fri, 27 Nov 2020   Prob (F-statistic):                   1.47e-257\n",
       "Time:                        22:47:24   Log-Likelihood:                         -1515.7\n",
       "No. Observations:                 414   AIC:                                      3039.\n",
       "Df Residuals:                     410   BIC:                                      3055.\n",
       "Df Model:                           4                                                  \n",
       "Covariance Type:            nonrobust                                                  \n",
       "==============================================================================\n",
       "                 coef    std err          t      P>|t|      [0.025      0.975]\n",
       "------------------------------------------------------------------------------\n",
       "x1            -0.0050      0.000    -10.389      0.000      -0.006      -0.004\n",
       "x2             1.0668      0.200      5.332      0.000       0.673       1.460\n",
       "x3           203.2124     45.125      4.503      0.000     114.506     291.918\n",
       "x4           -41.4289      9.271     -4.469      0.000     -59.654     -23.204\n",
       "==============================================================================\n",
       "Omnibus:                      199.634   Durbin-Watson:                   2.140\n",
       "Prob(Omnibus):                  0.000   Jarque-Bera (JB):             2347.984\n",
       "Skew:                           1.744   Prob(JB):                         0.00\n",
       "Kurtosis:                      14.133   Cond. No.                     1.65e+05\n",
       "==============================================================================\n",
       "\n",
       "Warnings:\n",
       "[1] Standard Errors assume that the covariance matrix of the errors is correctly specified.\n",
       "[2] The condition number is large, 1.65e+05. This might indicate that there are\n",
       "strong multicollinearity or other numerical problems.\n",
       "\"\"\""
      ]
     },
     "execution_count": 38,
     "metadata": {},
     "output_type": "execute_result"
    }
   ],
   "source": [
    "# Elimination 3\n",
    "x_opt = x[:,[4,5,6,7]]\n",
    "lr_OLS = sm.OLS(endog=y,exog=x_opt).fit()\n",
    "lr_OLS.summary()\n"
   ]
  },
  {
   "cell_type": "code",
   "execution_count": 39,
   "metadata": {},
   "outputs": [
    {
     "data": {
      "text/html": [
       "<table class=\"simpletable\">\n",
       "<caption>OLS Regression Results</caption>\n",
       "<tr>\n",
       "  <th>Dep. Variable:</th>      <td>Housing_price</td>  <th>  R-squared (uncentered):</th>      <td>   0.931</td> \n",
       "</tr>\n",
       "<tr>\n",
       "  <th>Model:</th>                   <td>OLS</td>       <th>  Adj. R-squared (uncentered):</th> <td>   0.931</td> \n",
       "</tr>\n",
       "<tr>\n",
       "  <th>Method:</th>             <td>Least Squares</td>  <th>  F-statistic:       </th>          <td>   1855.</td> \n",
       "</tr>\n",
       "<tr>\n",
       "  <th>Date:</th>             <td>Fri, 27 Nov 2020</td> <th>  Prob (F-statistic):</th>          <td>1.97e-238</td>\n",
       "</tr>\n",
       "<tr>\n",
       "  <th>Time:</th>                 <td>22:47:24</td>     <th>  Log-Likelihood:    </th>          <td> -1564.0</td> \n",
       "</tr>\n",
       "<tr>\n",
       "  <th>No. Observations:</th>      <td>   414</td>      <th>  AIC:               </th>          <td>   3134.</td> \n",
       "</tr>\n",
       "<tr>\n",
       "  <th>Df Residuals:</th>          <td>   411</td>      <th>  BIC:               </th>          <td>   3146.</td> \n",
       "</tr>\n",
       "<tr>\n",
       "  <th>Df Model:</th>              <td>     3</td>      <th>                     </th>              <td> </td>    \n",
       "</tr>\n",
       "<tr>\n",
       "  <th>Covariance Type:</th>      <td>nonrobust</td>    <th>                     </th>              <td> </td>    \n",
       "</tr>\n",
       "</table>\n",
       "<table class=\"simpletable\">\n",
       "<tr>\n",
       "   <td></td>     <th>coef</th>     <th>std err</th>      <th>t</th>      <th>P>|t|</th>  <th>[0.025</th>    <th>0.975]</th>  \n",
       "</tr>\n",
       "<tr>\n",
       "  <th>x1</th> <td>    2.1771</td> <td>    0.190</td> <td>   11.465</td> <td> 0.000</td> <td>    1.804</td> <td>    2.550</td>\n",
       "</tr>\n",
       "<tr>\n",
       "  <th>x2</th> <td>  330.6415</td> <td>   48.749</td> <td>    6.782</td> <td> 0.000</td> <td>  234.813</td> <td>  426.470</td>\n",
       "</tr>\n",
       "<tr>\n",
       "  <th>x3</th> <td>  -67.6911</td> <td>   10.013</td> <td>   -6.760</td> <td> 0.000</td> <td>  -87.375</td> <td>  -48.008</td>\n",
       "</tr>\n",
       "</table>\n",
       "<table class=\"simpletable\">\n",
       "<tr>\n",
       "  <th>Omnibus:</th>       <td>174.683</td> <th>  Durbin-Watson:     </th> <td>   2.040</td>\n",
       "</tr>\n",
       "<tr>\n",
       "  <th>Prob(Omnibus):</th> <td> 0.000</td>  <th>  Jarque-Bera (JB):  </th> <td>1603.718</td>\n",
       "</tr>\n",
       "<tr>\n",
       "  <th>Skew:</th>          <td> 1.546</td>  <th>  Prob(JB):          </th> <td>    0.00</td>\n",
       "</tr>\n",
       "<tr>\n",
       "  <th>Kurtosis:</th>      <td>12.133</td>  <th>  Cond. No.          </th> <td>1.18e+04</td>\n",
       "</tr>\n",
       "</table><br/><br/>Warnings:<br/>[1] Standard Errors assume that the covariance matrix of the errors is correctly specified.<br/>[2] The condition number is large, 1.18e+04. This might indicate that there are<br/>strong multicollinearity or other numerical problems."
      ],
      "text/plain": [
       "<class 'statsmodels.iolib.summary.Summary'>\n",
       "\"\"\"\n",
       "                                 OLS Regression Results                                \n",
       "=======================================================================================\n",
       "Dep. Variable:          Housing_price   R-squared (uncentered):                   0.931\n",
       "Model:                            OLS   Adj. R-squared (uncentered):              0.931\n",
       "Method:                 Least Squares   F-statistic:                              1855.\n",
       "Date:                Fri, 27 Nov 2020   Prob (F-statistic):                   1.97e-238\n",
       "Time:                        22:47:24   Log-Likelihood:                         -1564.0\n",
       "No. Observations:                 414   AIC:                                      3134.\n",
       "Df Residuals:                     411   BIC:                                      3146.\n",
       "Df Model:                           3                                                  \n",
       "Covariance Type:            nonrobust                                                  \n",
       "==============================================================================\n",
       "                 coef    std err          t      P>|t|      [0.025      0.975]\n",
       "------------------------------------------------------------------------------\n",
       "x1             2.1771      0.190     11.465      0.000       1.804       2.550\n",
       "x2           330.6415     48.749      6.782      0.000     234.813     426.470\n",
       "x3           -67.6911     10.013     -6.760      0.000     -87.375     -48.008\n",
       "==============================================================================\n",
       "Omnibus:                      174.683   Durbin-Watson:                   2.040\n",
       "Prob(Omnibus):                  0.000   Jarque-Bera (JB):             1603.718\n",
       "Skew:                           1.546   Prob(JB):                         0.00\n",
       "Kurtosis:                      12.133   Cond. No.                     1.18e+04\n",
       "==============================================================================\n",
       "\n",
       "Warnings:\n",
       "[1] Standard Errors assume that the covariance matrix of the errors is correctly specified.\n",
       "[2] The condition number is large, 1.18e+04. This might indicate that there are\n",
       "strong multicollinearity or other numerical problems.\n",
       "\"\"\""
      ]
     },
     "execution_count": 39,
     "metadata": {},
     "output_type": "execute_result"
    }
   ],
   "source": [
    "# Elimination 4\n",
    "x_opt = x[:,[5,6,7]]\n",
    "lr_OLS = sm.OLS(endog=y,exog=x_opt).fit()\n",
    "lr_OLS.summary()"
   ]
  },
  {
   "cell_type": "code",
   "execution_count": 40,
   "metadata": {},
   "outputs": [
    {
     "data": {
      "text/html": [
       "<table class=\"simpletable\">\n",
       "<caption>OLS Regression Results</caption>\n",
       "<tr>\n",
       "  <th>Dep. Variable:</th>      <td>Housing_price</td>  <th>  R-squared (uncentered):</th>      <td>   0.909</td> \n",
       "</tr>\n",
       "<tr>\n",
       "  <th>Model:</th>                   <td>OLS</td>       <th>  Adj. R-squared (uncentered):</th> <td>   0.909</td> \n",
       "</tr>\n",
       "<tr>\n",
       "  <th>Method:</th>             <td>Least Squares</td>  <th>  F-statistic:       </th>          <td>   2063.</td> \n",
       "</tr>\n",
       "<tr>\n",
       "  <th>Date:</th>             <td>Fri, 27 Nov 2020</td> <th>  Prob (F-statistic):</th>          <td>2.20e-215</td>\n",
       "</tr>\n",
       "<tr>\n",
       "  <th>Time:</th>                 <td>22:47:24</td>     <th>  Log-Likelihood:    </th>          <td> -1621.5</td> \n",
       "</tr>\n",
       "<tr>\n",
       "  <th>No. Observations:</th>      <td>   414</td>      <th>  AIC:               </th>          <td>   3247.</td> \n",
       "</tr>\n",
       "<tr>\n",
       "  <th>Df Residuals:</th>          <td>   412</td>      <th>  BIC:               </th>          <td>   3255.</td> \n",
       "</tr>\n",
       "<tr>\n",
       "  <th>Df Model:</th>              <td>     2</td>      <th>                     </th>              <td> </td>    \n",
       "</tr>\n",
       "<tr>\n",
       "  <th>Covariance Type:</th>      <td>nonrobust</td>    <th>                     </th>              <td> </td>    \n",
       "</tr>\n",
       "</table>\n",
       "<table class=\"simpletable\">\n",
       "<tr>\n",
       "   <td></td>     <th>coef</th>     <th>std err</th>      <th>t</th>      <th>P>|t|</th>  <th>[0.025</th>    <th>0.975]</th>  \n",
       "</tr>\n",
       "<tr>\n",
       "  <th>x1</th> <td>  530.1555</td> <td>   52.251</td> <td>   10.146</td> <td> 0.000</td> <td>  427.444</td> <td>  632.866</td>\n",
       "</tr>\n",
       "<tr>\n",
       "  <th>x2</th> <td> -108.6079</td> <td>   10.735</td> <td>  -10.117</td> <td> 0.000</td> <td> -129.710</td> <td>  -87.506</td>\n",
       "</tr>\n",
       "</table>\n",
       "<table class=\"simpletable\">\n",
       "<tr>\n",
       "  <th>Omnibus:</th>       <td>85.175</td> <th>  Durbin-Watson:     </th> <td>   1.972</td>\n",
       "</tr>\n",
       "<tr>\n",
       "  <th>Prob(Omnibus):</th> <td> 0.000</td> <th>  Jarque-Bera (JB):  </th> <td> 266.351</td>\n",
       "</tr>\n",
       "<tr>\n",
       "  <th>Skew:</th>          <td> 0.931</td> <th>  Prob(JB):          </th> <td>1.45e-58</td>\n",
       "</tr>\n",
       "<tr>\n",
       "  <th>Kurtosis:</th>      <td> 6.461</td> <th>  Cond. No.          </th> <td>1.11e+04</td>\n",
       "</tr>\n",
       "</table><br/><br/>Warnings:<br/>[1] Standard Errors assume that the covariance matrix of the errors is correctly specified.<br/>[2] The condition number is large, 1.11e+04. This might indicate that there are<br/>strong multicollinearity or other numerical problems."
      ],
      "text/plain": [
       "<class 'statsmodels.iolib.summary.Summary'>\n",
       "\"\"\"\n",
       "                                 OLS Regression Results                                \n",
       "=======================================================================================\n",
       "Dep. Variable:          Housing_price   R-squared (uncentered):                   0.909\n",
       "Model:                            OLS   Adj. R-squared (uncentered):              0.909\n",
       "Method:                 Least Squares   F-statistic:                              2063.\n",
       "Date:                Fri, 27 Nov 2020   Prob (F-statistic):                   2.20e-215\n",
       "Time:                        22:47:24   Log-Likelihood:                         -1621.5\n",
       "No. Observations:                 414   AIC:                                      3247.\n",
       "Df Residuals:                     412   BIC:                                      3255.\n",
       "Df Model:                           2                                                  \n",
       "Covariance Type:            nonrobust                                                  \n",
       "==============================================================================\n",
       "                 coef    std err          t      P>|t|      [0.025      0.975]\n",
       "------------------------------------------------------------------------------\n",
       "x1           530.1555     52.251     10.146      0.000     427.444     632.866\n",
       "x2          -108.6079     10.735    -10.117      0.000    -129.710     -87.506\n",
       "==============================================================================\n",
       "Omnibus:                       85.175   Durbin-Watson:                   1.972\n",
       "Prob(Omnibus):                  0.000   Jarque-Bera (JB):              266.351\n",
       "Skew:                           0.931   Prob(JB):                     1.45e-58\n",
       "Kurtosis:                       6.461   Cond. No.                     1.11e+04\n",
       "==============================================================================\n",
       "\n",
       "Warnings:\n",
       "[1] Standard Errors assume that the covariance matrix of the errors is correctly specified.\n",
       "[2] The condition number is large, 1.11e+04. This might indicate that there are\n",
       "strong multicollinearity or other numerical problems.\n",
       "\"\"\""
      ]
     },
     "execution_count": 40,
     "metadata": {},
     "output_type": "execute_result"
    }
   ],
   "source": [
    "# Elimination 5\n",
    "x_opt = x[:,[6,7]]\n",
    "lr_OLS = sm.OLS(endog=y,exog=x_opt).fit()\n",
    "lr_OLS.summary()"
   ]
  },
  {
   "cell_type": "code",
   "execution_count": 41,
   "metadata": {},
   "outputs": [
    {
     "data": {
      "text/html": [
       "<table class=\"simpletable\">\n",
       "<caption>OLS Regression Results</caption>\n",
       "<tr>\n",
       "  <th>Dep. Variable:</th>      <td>Housing_price</td>  <th>  R-squared (uncentered):</th>      <td>   0.924</td> \n",
       "</tr>\n",
       "<tr>\n",
       "  <th>Model:</th>                   <td>OLS</td>       <th>  Adj. R-squared (uncentered):</th> <td>   0.923</td> \n",
       "</tr>\n",
       "<tr>\n",
       "  <th>Method:</th>             <td>Least Squares</td>  <th>  F-statistic:       </th>          <td>   2487.</td> \n",
       "</tr>\n",
       "<tr>\n",
       "  <th>Date:</th>             <td>Fri, 27 Nov 2020</td> <th>  Prob (F-statistic):</th>          <td>1.05e-230</td>\n",
       "</tr>\n",
       "<tr>\n",
       "  <th>Time:</th>                 <td>22:47:24</td>     <th>  Log-Likelihood:    </th>          <td> -1586.0</td> \n",
       "</tr>\n",
       "<tr>\n",
       "  <th>No. Observations:</th>      <td>   414</td>      <th>  AIC:               </th>          <td>   3176.</td> \n",
       "</tr>\n",
       "<tr>\n",
       "  <th>Df Residuals:</th>          <td>   412</td>      <th>  BIC:               </th>          <td>   3184.</td> \n",
       "</tr>\n",
       "<tr>\n",
       "  <th>Df Model:</th>              <td>     2</td>      <th>                     </th>              <td> </td>    \n",
       "</tr>\n",
       "<tr>\n",
       "  <th>Covariance Type:</th>      <td>nonrobust</td>    <th>                     </th>              <td> </td>    \n",
       "</tr>\n",
       "</table>\n",
       "<table class=\"simpletable\">\n",
       "<tr>\n",
       "   <td></td>     <th>coef</th>     <th>std err</th>      <th>t</th>      <th>P>|t|</th>  <th>[0.025</th>    <th>0.975]</th>  \n",
       "</tr>\n",
       "<tr>\n",
       "  <th>x1</th> <td>    0.0135</td> <td>    0.000</td> <td>   28.859</td> <td> 0.000</td> <td>    0.013</td> <td>    0.014</td>\n",
       "</tr>\n",
       "<tr>\n",
       "  <th>x2</th> <td>    2.6376</td> <td>    0.187</td> <td>   14.118</td> <td> 0.000</td> <td>    2.270</td> <td>    3.005</td>\n",
       "</tr>\n",
       "</table>\n",
       "<table class=\"simpletable\">\n",
       "<tr>\n",
       "  <th>Omnibus:</th>       <td>171.926</td> <th>  Durbin-Watson:     </th> <td>   1.993</td> \n",
       "</tr>\n",
       "<tr>\n",
       "  <th>Prob(Omnibus):</th> <td> 0.000</td>  <th>  Jarque-Bera (JB):  </th> <td>1417.263</td> \n",
       "</tr>\n",
       "<tr>\n",
       "  <th>Skew:</th>          <td> 1.553</td>  <th>  Prob(JB):          </th> <td>1.76e-308</td>\n",
       "</tr>\n",
       "<tr>\n",
       "  <th>Kurtosis:</th>      <td>11.516</td>  <th>  Cond. No.          </th> <td>    684.</td> \n",
       "</tr>\n",
       "</table><br/><br/>Warnings:<br/>[1] Standard Errors assume that the covariance matrix of the errors is correctly specified."
      ],
      "text/plain": [
       "<class 'statsmodels.iolib.summary.Summary'>\n",
       "\"\"\"\n",
       "                                 OLS Regression Results                                \n",
       "=======================================================================================\n",
       "Dep. Variable:          Housing_price   R-squared (uncentered):                   0.924\n",
       "Model:                            OLS   Adj. R-squared (uncentered):              0.923\n",
       "Method:                 Least Squares   F-statistic:                              2487.\n",
       "Date:                Fri, 27 Nov 2020   Prob (F-statistic):                   1.05e-230\n",
       "Time:                        22:47:24   Log-Likelihood:                         -1586.0\n",
       "No. Observations:                 414   AIC:                                      3176.\n",
       "Df Residuals:                     412   BIC:                                      3184.\n",
       "Df Model:                           2                                                  \n",
       "Covariance Type:            nonrobust                                                  \n",
       "==============================================================================\n",
       "                 coef    std err          t      P>|t|      [0.025      0.975]\n",
       "------------------------------------------------------------------------------\n",
       "x1             0.0135      0.000     28.859      0.000       0.013       0.014\n",
       "x2             2.6376      0.187     14.118      0.000       2.270       3.005\n",
       "==============================================================================\n",
       "Omnibus:                      171.926   Durbin-Watson:                   1.993\n",
       "Prob(Omnibus):                  0.000   Jarque-Bera (JB):             1417.263\n",
       "Skew:                           1.553   Prob(JB):                    1.76e-308\n",
       "Kurtosis:                      11.516   Cond. No.                         684.\n",
       "==============================================================================\n",
       "\n",
       "Warnings:\n",
       "[1] Standard Errors assume that the covariance matrix of the errors is correctly specified.\n",
       "\"\"\""
      ]
     },
     "execution_count": 41,
     "metadata": {},
     "output_type": "execute_result"
    }
   ],
   "source": [
    "# Combination 1\n",
    "x_opt = x[:,[2,5]]\n",
    "lr_OLS = sm.OLS(endog=y,exog=x_opt).fit()\n",
    "lr_OLS.summary()"
   ]
  },
  {
   "cell_type": "code",
   "execution_count": 42,
   "metadata": {},
   "outputs": [
    {
     "data": {
      "text/html": [
       "<table class=\"simpletable\">\n",
       "<caption>OLS Regression Results</caption>\n",
       "<tr>\n",
       "  <th>Dep. Variable:</th>      <td>Housing_price</td>  <th>  R-squared (uncentered):</th>      <td>   0.942</td> \n",
       "</tr>\n",
       "<tr>\n",
       "  <th>Model:</th>                   <td>OLS</td>       <th>  Adj. R-squared (uncentered):</th> <td>   0.942</td> \n",
       "</tr>\n",
       "<tr>\n",
       "  <th>Method:</th>             <td>Least Squares</td>  <th>  F-statistic:       </th>          <td>   1679.</td> \n",
       "</tr>\n",
       "<tr>\n",
       "  <th>Date:</th>             <td>Fri, 27 Nov 2020</td> <th>  Prob (F-statistic):</th>          <td>1.13e-252</td>\n",
       "</tr>\n",
       "<tr>\n",
       "  <th>Time:</th>                 <td>22:47:24</td>     <th>  Log-Likelihood:    </th>          <td> -1527.0</td> \n",
       "</tr>\n",
       "<tr>\n",
       "  <th>No. Observations:</th>      <td>   414</td>      <th>  AIC:               </th>          <td>   3062.</td> \n",
       "</tr>\n",
       "<tr>\n",
       "  <th>Df Residuals:</th>          <td>   410</td>      <th>  BIC:               </th>          <td>   3078.</td> \n",
       "</tr>\n",
       "<tr>\n",
       "  <th>Df Model:</th>              <td>     4</td>      <th>                     </th>              <td> </td>    \n",
       "</tr>\n",
       "<tr>\n",
       "  <th>Covariance Type:</th>      <td>nonrobust</td>    <th>                     </th>              <td> </td>    \n",
       "</tr>\n",
       "</table>\n",
       "<table class=\"simpletable\">\n",
       "<tr>\n",
       "   <td></td>     <th>coef</th>     <th>std err</th>      <th>t</th>      <th>P>|t|</th>  <th>[0.025</th>    <th>0.975]</th>  \n",
       "</tr>\n",
       "<tr>\n",
       "  <th>x1</th> <td>   -0.0050</td> <td>    0.004</td> <td>   -1.253</td> <td> 0.211</td> <td>   -0.013</td> <td>    0.003</td>\n",
       "</tr>\n",
       "<tr>\n",
       "  <th>x2</th> <td>    0.0253</td> <td>    0.001</td> <td>   39.393</td> <td> 0.000</td> <td>    0.024</td> <td>    0.027</td>\n",
       "</tr>\n",
       "<tr>\n",
       "  <th>x3</th> <td>   -0.2328</td> <td>    0.042</td> <td>   -5.539</td> <td> 0.000</td> <td>   -0.315</td> <td>   -0.150</td>\n",
       "</tr>\n",
       "<tr>\n",
       "  <th>x4</th> <td>   -0.0072</td> <td>    0.000</td> <td>  -19.028</td> <td> 0.000</td> <td>   -0.008</td> <td>   -0.006</td>\n",
       "</tr>\n",
       "</table>\n",
       "<table class=\"simpletable\">\n",
       "<tr>\n",
       "  <th>Omnibus:</th>       <td>164.633</td> <th>  Durbin-Watson:     </th> <td>   2.138</td> \n",
       "</tr>\n",
       "<tr>\n",
       "  <th>Prob(Omnibus):</th> <td> 0.000</td>  <th>  Jarque-Bera (JB):  </th> <td>1379.338</td> \n",
       "</tr>\n",
       "<tr>\n",
       "  <th>Skew:</th>          <td> 1.465</td>  <th>  Prob(JB):          </th> <td>3.02e-300</td>\n",
       "</tr>\n",
       "<tr>\n",
       "  <th>Kurtosis:</th>      <td>11.449</td>  <th>  Cond. No.          </th> <td>    210.</td> \n",
       "</tr>\n",
       "</table><br/><br/>Warnings:<br/>[1] Standard Errors assume that the covariance matrix of the errors is correctly specified."
      ],
      "text/plain": [
       "<class 'statsmodels.iolib.summary.Summary'>\n",
       "\"\"\"\n",
       "                                 OLS Regression Results                                \n",
       "=======================================================================================\n",
       "Dep. Variable:          Housing_price   R-squared (uncentered):                   0.942\n",
       "Model:                            OLS   Adj. R-squared (uncentered):              0.942\n",
       "Method:                 Least Squares   F-statistic:                              1679.\n",
       "Date:                Fri, 27 Nov 2020   Prob (F-statistic):                   1.13e-252\n",
       "Time:                        22:47:24   Log-Likelihood:                         -1527.0\n",
       "No. Observations:                 414   AIC:                                      3062.\n",
       "Df Residuals:                     410   BIC:                                      3078.\n",
       "Df Model:                           4                                                  \n",
       "Covariance Type:            nonrobust                                                  \n",
       "==============================================================================\n",
       "                 coef    std err          t      P>|t|      [0.025      0.975]\n",
       "------------------------------------------------------------------------------\n",
       "x1            -0.0050      0.004     -1.253      0.211      -0.013       0.003\n",
       "x2             0.0253      0.001     39.393      0.000       0.024       0.027\n",
       "x3            -0.2328      0.042     -5.539      0.000      -0.315      -0.150\n",
       "x4            -0.0072      0.000    -19.028      0.000      -0.008      -0.006\n",
       "==============================================================================\n",
       "Omnibus:                      164.633   Durbin-Watson:                   2.138\n",
       "Prob(Omnibus):                  0.000   Jarque-Bera (JB):             1379.338\n",
       "Skew:                           1.465   Prob(JB):                    3.02e-300\n",
       "Kurtosis:                      11.449   Cond. No.                         210.\n",
       "==============================================================================\n",
       "\n",
       "Warnings:\n",
       "[1] Standard Errors assume that the covariance matrix of the errors is correctly specified.\n",
       "\"\"\""
      ]
     },
     "execution_count": 42,
     "metadata": {},
     "output_type": "execute_result"
    }
   ],
   "source": [
    "# Combination 2\n",
    "x_opt = x[:,[1,2,3,4]]\n",
    "lr_OLS = sm.OLS(endog=y,exog=x_opt).fit()\n",
    "lr_OLS.summary()"
   ]
  },
  {
   "cell_type": "markdown",
   "metadata": {},
   "source": [
    "#### After Trying Different Combinations and comparisons the optimization made below looked like the best fit "
   ]
  },
  {
   "cell_type": "code",
   "execution_count": 43,
   "metadata": {},
   "outputs": [
    {
     "data": {
      "text/html": [
       "<table class=\"simpletable\">\n",
       "<caption>OLS Regression Results</caption>\n",
       "<tr>\n",
       "  <th>Dep. Variable:</th>      <td>Housing_price</td>  <th>  R-squared (uncentered):</th>      <td>   0.938</td> \n",
       "</tr>\n",
       "<tr>\n",
       "  <th>Model:</th>                   <td>OLS</td>       <th>  Adj. R-squared (uncentered):</th> <td>   0.938</td> \n",
       "</tr>\n",
       "<tr>\n",
       "  <th>Method:</th>             <td>Least Squares</td>  <th>  F-statistic:       </th>          <td>   2079.</td> \n",
       "</tr>\n",
       "<tr>\n",
       "  <th>Date:</th>             <td>Fri, 27 Nov 2020</td> <th>  Prob (F-statistic):</th>          <td>6.02e-248</td>\n",
       "</tr>\n",
       "<tr>\n",
       "  <th>Time:</th>                 <td>22:47:24</td>     <th>  Log-Likelihood:    </th>          <td> -1541.9</td> \n",
       "</tr>\n",
       "<tr>\n",
       "  <th>No. Observations:</th>      <td>   414</td>      <th>  AIC:               </th>          <td>   3090.</td> \n",
       "</tr>\n",
       "<tr>\n",
       "  <th>Df Residuals:</th>          <td>   411</td>      <th>  BIC:               </th>          <td>   3102.</td> \n",
       "</tr>\n",
       "<tr>\n",
       "  <th>Df Model:</th>              <td>     3</td>      <th>                     </th>              <td> </td>    \n",
       "</tr>\n",
       "<tr>\n",
       "  <th>Covariance Type:</th>      <td>nonrobust</td>    <th>                     </th>              <td> </td>    \n",
       "</tr>\n",
       "</table>\n",
       "<table class=\"simpletable\">\n",
       "<tr>\n",
       "   <td></td>     <th>coef</th>     <th>std err</th>      <th>t</th>      <th>P>|t|</th>  <th>[0.025</th>    <th>0.975]</th>  \n",
       "</tr>\n",
       "<tr>\n",
       "  <th>x1</th> <td>   -0.0043</td> <td>    0.004</td> <td>   -1.037</td> <td> 0.300</td> <td>   -0.012</td> <td>    0.004</td>\n",
       "</tr>\n",
       "<tr>\n",
       "  <th>x2</th> <td>    0.0232</td> <td>    0.001</td> <td>   43.152</td> <td> 0.000</td> <td>    0.022</td> <td>    0.024</td>\n",
       "</tr>\n",
       "<tr>\n",
       "  <th>x3</th> <td>   -0.0073</td> <td>    0.000</td> <td>  -18.517</td> <td> 0.000</td> <td>   -0.008</td> <td>   -0.006</td>\n",
       "</tr>\n",
       "</table>\n",
       "<table class=\"simpletable\">\n",
       "<tr>\n",
       "  <th>Omnibus:</th>       <td>142.637</td> <th>  Durbin-Watson:     </th> <td>   2.156</td> \n",
       "</tr>\n",
       "<tr>\n",
       "  <th>Prob(Omnibus):</th> <td> 0.000</td>  <th>  Jarque-Bera (JB):  </th> <td>1033.357</td> \n",
       "</tr>\n",
       "<tr>\n",
       "  <th>Skew:</th>          <td> 1.272</td>  <th>  Prob(JB):          </th> <td>4.07e-225</td>\n",
       "</tr>\n",
       "<tr>\n",
       "  <th>Kurtosis:</th>      <td>10.310</td>  <th>  Cond. No.          </th> <td>    20.1</td> \n",
       "</tr>\n",
       "</table><br/><br/>Warnings:<br/>[1] Standard Errors assume that the covariance matrix of the errors is correctly specified."
      ],
      "text/plain": [
       "<class 'statsmodels.iolib.summary.Summary'>\n",
       "\"\"\"\n",
       "                                 OLS Regression Results                                \n",
       "=======================================================================================\n",
       "Dep. Variable:          Housing_price   R-squared (uncentered):                   0.938\n",
       "Model:                            OLS   Adj. R-squared (uncentered):              0.938\n",
       "Method:                 Least Squares   F-statistic:                              2079.\n",
       "Date:                Fri, 27 Nov 2020   Prob (F-statistic):                   6.02e-248\n",
       "Time:                        22:47:24   Log-Likelihood:                         -1541.9\n",
       "No. Observations:                 414   AIC:                                      3090.\n",
       "Df Residuals:                     411   BIC:                                      3102.\n",
       "Df Model:                           3                                                  \n",
       "Covariance Type:            nonrobust                                                  \n",
       "==============================================================================\n",
       "                 coef    std err          t      P>|t|      [0.025      0.975]\n",
       "------------------------------------------------------------------------------\n",
       "x1            -0.0043      0.004     -1.037      0.300      -0.012       0.004\n",
       "x2             0.0232      0.001     43.152      0.000       0.022       0.024\n",
       "x3            -0.0073      0.000    -18.517      0.000      -0.008      -0.006\n",
       "==============================================================================\n",
       "Omnibus:                      142.637   Durbin-Watson:                   2.156\n",
       "Prob(Omnibus):                  0.000   Jarque-Bera (JB):             1033.357\n",
       "Skew:                           1.272   Prob(JB):                    4.07e-225\n",
       "Kurtosis:                      10.310   Cond. No.                         20.1\n",
       "==============================================================================\n",
       "\n",
       "Warnings:\n",
       "[1] Standard Errors assume that the covariance matrix of the errors is correctly specified.\n",
       "\"\"\""
      ]
     },
     "execution_count": 43,
     "metadata": {},
     "output_type": "execute_result"
    }
   ],
   "source": [
    "#BEST COMBINATION POSSIBLE\n",
    "x_opt = x[:,[1,2,4]]\n",
    "lr_OLS = sm.OLS(endog=y,exog=x_opt).fit()\n",
    "lr_OLS.summary()"
   ]
  },
  {
   "cell_type": "markdown",
   "metadata": {},
   "source": [
    "### GUI DEVELOPMENT"
   ]
  },
  {
   "cell_type": "code",
   "execution_count": 44,
   "metadata": {},
   "outputs": [],
   "source": [
    "from pandas import DataFrame\n",
    "from sklearn.linear_model import LinearRegression\n",
    "import tkinter as tk\n",
    "import statsmodels.api as sm\n",
    "import matplotlib.pyplot as plt\n",
    "from matplotlib.backends.backend_tkagg import FigureCanvasTkAgg"
   ]
  },
  {
   "cell_type": "code",
   "execution_count": 45,
   "metadata": {},
   "outputs": [],
   "source": [
    "df = DataFrame(house_data, columns = [\"No\",\"Transaction_date\",\"House_age\",\"Nearest_MRT_station\",\"Convenient_stores\",\n",
    "                                     \"latitude\",\"longitude\",\"Housing_price\"])"
   ]
  },
  {
   "cell_type": "code",
   "execution_count": 46,
   "metadata": {},
   "outputs": [],
   "source": [
    "x=df[[\"No\",\"Transaction_date\",\"House_age\",\"Nearest_MRT_station\",\"Convenient_stores\",\n",
    "                                     \"latitude\",\"longitude\"]]\n",
    "y=df[\"Housing_price\"]"
   ]
  },
  {
   "cell_type": "code",
   "execution_count": 47,
   "metadata": {},
   "outputs": [
    {
     "data": {
      "text/plain": [
       "LinearRegression()"
      ]
     },
     "execution_count": 47,
     "metadata": {},
     "output_type": "execute_result"
    }
   ],
   "source": [
    "#with sklearn\n",
    "lr = LinearRegression()\n",
    "lr.fit(x_train,y_train)"
   ]
  },
  {
   "cell_type": "code",
   "execution_count": 48,
   "metadata": {},
   "outputs": [
    {
     "name": "stdout",
     "output_type": "stream",
     "text": [
      "Intercept: \n",
      " 38.39154078549896\n"
     ]
    }
   ],
   "source": [
    "print(\"Intercept: \\n\",lr.intercept_)"
   ]
  },
  {
   "cell_type": "code",
   "execution_count": 49,
   "metadata": {},
   "outputs": [
    {
     "name": "stdout",
     "output_type": "stream",
     "text": [
      "coefficients: \n",
      " [-0.65836938  1.52026712 -3.02917686 -5.85599241  3.18855211  2.81778333\n",
      " -0.45047249]\n"
     ]
    }
   ],
   "source": [
    "print(\"coefficients: \\n\",lr.coef_)"
   ]
  },
  {
   "cell_type": "markdown",
   "metadata": {},
   "source": [
    "## With Statsmodel"
   ]
  },
  {
   "cell_type": "code",
   "execution_count": 50,
   "metadata": {},
   "outputs": [],
   "source": [
    "#with statsmodels\n",
    "model=sm.OLS(y,x).fit()\n",
    "predictions = model.predict(x)"
   ]
  },
  {
   "cell_type": "markdown",
   "metadata": {},
   "source": [
    "# Tkinter GUI"
   ]
  },
  {
   "cell_type": "code",
   "execution_count": 51,
   "metadata": {},
   "outputs": [],
   "source": [
    "#tkinker GUI"
   ]
  },
  {
   "cell_type": "code",
   "execution_count": 52,
   "metadata": {},
   "outputs": [],
   "source": [
    "root = tk.Tk()"
   ]
  },
  {
   "cell_type": "code",
   "execution_count": 53,
   "metadata": {},
   "outputs": [],
   "source": [
    "canvas = tk.Canvas(root, width =1000, height = 300)"
   ]
  },
  {
   "cell_type": "code",
   "execution_count": 54,
   "metadata": {},
   "outputs": [],
   "source": [
    "canvas.pack()"
   ]
  },
  {
   "cell_type": "code",
   "execution_count": 55,
   "metadata": {},
   "outputs": [],
   "source": [
    "# with sklearn"
   ]
  },
  {
   "cell_type": "code",
   "execution_count": 56,
   "metadata": {},
   "outputs": [
    {
     "data": {
      "text/plain": [
       "1"
      ]
     },
     "execution_count": 56,
     "metadata": {},
     "output_type": "execute_result"
    }
   ],
   "source": [
    "Intercept_result = (\"Intercept: \", \"lr.intercept_\")\n",
    "label_intercept = tk.Label(root, text=Intercept_result,justify=\"center\")\n",
    "canvas.create_window(270,250,window=label_intercept)"
   ]
  },
  {
   "cell_type": "code",
   "execution_count": 57,
   "metadata": {},
   "outputs": [],
   "source": [
    "#with sklearn "
   ]
  },
  {
   "cell_type": "code",
   "execution_count": 58,
   "metadata": {},
   "outputs": [
    {
     "data": {
      "text/plain": [
       "2"
      ]
     },
     "execution_count": 58,
     "metadata": {},
     "output_type": "execute_result"
    }
   ],
   "source": [
    "Coefficients_result =(\"Coefficients: \",\"regressor.coef_\")\n",
    "label_Coefficients = tk.Label(root,text=Coefficients_result,justify=\"center\")\n",
    "canvas.create_window(260,270,window = label_Coefficients)"
   ]
  },
  {
   "cell_type": "code",
   "execution_count": 59,
   "metadata": {},
   "outputs": [],
   "source": [
    "#with statsmodels"
   ]
  },
  {
   "cell_type": "code",
   "execution_count": 60,
   "metadata": {},
   "outputs": [
    {
     "data": {
      "text/plain": [
       "3"
      ]
     },
     "execution_count": 60,
     "metadata": {},
     "output_type": "execute_result"
    }
   ],
   "source": [
    "print_model = model.summary()\n",
    "label_model = tk.Label(root,text=print_model,justify=\"center\",relief=\"solid\",anchor=\"e\",bg=\"LightSkyBlue1\")\n",
    "canvas.create_window(700,220,window = label_model)"
   ]
  },
  {
   "cell_type": "markdown",
   "metadata": {},
   "source": [
    "## Creating Label and Input Boxes"
   ]
  },
  {
   "cell_type": "code",
   "execution_count": 61,
   "metadata": {},
   "outputs": [
    {
     "data": {
      "text/plain": [
       "17"
      ]
     },
     "execution_count": 61,
     "metadata": {},
     "output_type": "execute_result"
    }
   ],
   "source": [
    "#New No. and input box\n",
    "label0 =tk.Label(root,text=\"No: \")\n",
    "canvas.create_window(185,80,window=label0)\n",
    "#create zeroth entry box\n",
    "entry0 = tk.Entry (root)\n",
    "canvas.create_window(270,80,window=entry0)\n",
    "\n",
    "#New Transaction_date and input box\n",
    "label1 =tk.Label(root,text=\"Transaction_date: \")\n",
    "canvas.create_window(156,100,window=label1)\n",
    "#create first entry box\n",
    "entry1 = tk.Entry (root)\n",
    "canvas.create_window(270,100,window=entry1)\n",
    "\n",
    "#New House_age and input box\n",
    "label2 =tk.Label(root,text=\"House_age: \")\n",
    "canvas.create_window(172,120,window=label2)\n",
    "#create second entry box\n",
    "entry2 = tk.Entry (root)\n",
    "canvas.create_window(270,120,window=entry2)\n",
    "\n",
    "#New Nearest_MRT_station and input box\n",
    "label3 =tk.Label(root,text=\"Nearest_MRT_station: \")\n",
    "canvas.create_window(147,140,window=label3)\n",
    "#create third entry box\n",
    "entry3 = tk.Entry (root)\n",
    "canvas.create_window(270,140,window=entry3)\n",
    "\n",
    "#New Convenient_stores and input box\n",
    "label4 =tk.Label(root,text=\"Convenient_stores: \")\n",
    "canvas.create_window(151,160,window=label4)\n",
    "#create fourth entry box\n",
    "entry4= tk.Entry (root)\n",
    "canvas.create_window(270,160,window=entry4)\n",
    "\n",
    "##New latitude and input box\n",
    "label5=tk.Label(root,text=\"latitude: \")\n",
    "canvas.create_window(181,180,window=label5)\n",
    "#create fifth entry box\n",
    "entry5 = tk.Entry (root)\n",
    "canvas.create_window(270,180,window=entry5)\n",
    "\n",
    "##New longitude and input box\n",
    "label6=tk.Label(root,text=\"longitude: \")\n",
    "canvas.create_window(176,200,window=label6)\n",
    "#create sixth entry box\n",
    "entry6 = tk.Entry(root)\n",
    "canvas.create_window(270,200,window=entry6)"
   ]
  },
  {
   "cell_type": "markdown",
   "metadata": {},
   "source": [
    "## User-Defined Functions to take New Values for Predictions"
   ]
  },
  {
   "cell_type": "code",
   "execution_count": 62,
   "metadata": {},
   "outputs": [],
   "source": [
    "def values():\n",
    "    global No\n",
    "    New_No=int(entry0.get())\n",
    "    \n",
    "    global New_Transaction_date\n",
    "    New_Transaction_date =float(entry1.get())\n",
    "    \n",
    "    global New_House_age\n",
    "    New_House_age = float(entry2.get())\n",
    "    \n",
    "    global New_Nearest_MRT_station\n",
    "    New_Nearest_MRT_station = float(entry3.get())\n",
    "    \n",
    "    global New_Convenient_stores\n",
    "    New_Convenient_stores = int(entry4.get())\n",
    "    \n",
    "    global New_latitude\n",
    "    New_latitude = float(entry5.get())\n",
    "    \n",
    "    global New_longitude\n",
    "    New_longitude = float(entry6.get())\n",
    "    \n",
    "    Prediction_result = (\"Predicted Housing_Price\",model.predict([[New_No,New_Transaction_date,New_House_age,\n",
    "                                                               New_Nearest_MRT_station,New_Convenient_stores,\n",
    "                                                                New_latitude,New_longitude]]))\n",
    "    label_prediction = tk.Label(root,text=\"Prediction_result:\",bg=\"orange\")\n",
    "    canvas.create_window(120,300,window=label_prediction)\n",
    "    label_prediction.config(text=Prediction_result)\n",
    "    \n",
    "\n",
    "    "
   ]
  },
  {
   "cell_type": "code",
   "execution_count": 63,
   "metadata": {},
   "outputs": [
    {
     "data": {
      "text/plain": [
       "18"
      ]
     },
     "execution_count": 63,
     "metadata": {},
     "output_type": "execute_result"
    }
   ],
   "source": [
    "#button to call the \"values\" command above\n",
    "button1 = tk.Button(root,text=\"Predict Housing Prices\",command=values,bg=\"orange\")\n",
    "canvas.create_window(270,220,window=button1)\n"
   ]
  },
  {
   "cell_type": "code",
   "execution_count": 64,
   "metadata": {},
   "outputs": [],
   "source": [
    "root.mainloop()"
   ]
  },
  {
   "cell_type": "code",
   "execution_count": null,
   "metadata": {},
   "outputs": [],
   "source": []
  },
  {
   "cell_type": "code",
   "execution_count": null,
   "metadata": {},
   "outputs": [],
   "source": []
  }
 ],
 "metadata": {
  "kernelspec": {
   "display_name": "Python 3",
   "language": "python",
   "name": "python3"
  },
  "language_info": {
   "codemirror_mode": {
    "name": "ipython",
    "version": 3
   },
   "file_extension": ".py",
   "mimetype": "text/x-python",
   "name": "python",
   "nbconvert_exporter": "python",
   "pygments_lexer": "ipython3",
   "version": "3.8.3"
  }
 },
 "nbformat": 4,
 "nbformat_minor": 2
}
